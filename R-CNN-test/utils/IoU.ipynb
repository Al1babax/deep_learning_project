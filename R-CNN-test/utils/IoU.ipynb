{
 "cells": [
  {
   "cell_type": "markdown",
   "source": [
    "### Intersection over Union (IoU)\n",
    "This script will calculate the Intersection over Union (IoU) for two bounding boxes. The IoU is a measure of how much overlap there is between two bounding boxes on a single image. The IoU is calculated as the area of overlap divided by the area of union between two bounding boxes. The value of the IoU is a number between 0 and 1, with 1 representing perfect overlap and 0 representing no overlap. The IoU is used to determine if a proposed bounding box accurately describes an object in an image. The IoU is also used to determine if proposed bounding boxes accurately describe the same object in different images. The IoU is calculated as follows:\n",
    "$$\n",
    "IoU = \\frac{Area\\ of\\ Overlap}{Area\\ of\\ Union}\n",
    "$$"
   ],
   "metadata": {
    "collapsed": false,
    "pycharm": {
     "name": "#%% md\n"
    }
   }
  },
  {
   "cell_type": "code",
   "execution_count": 1,
   "metadata": {
    "collapsed": true,
    "pycharm": {
     "name": "#%%\n"
    }
   },
   "outputs": [],
   "source": [
    "def compute_iou(boxA, boxB):\n",
    "    \"\"\"\n",
    "    Compute the Intersection over Union (IoU) of two bounding boxes.\n",
    "    Parameters:\n",
    "        boxA (list): The first bounding box. The box is specified in the format\n",
    "            [x, y, width, height].\n",
    "        boxB (list): The second bounding box. The box is specified in the format\n",
    "            [x, y, width, height].\n",
    "    Returns:\n",
    "        iou (float): The Intersection over Union (IoU) of the two bounding boxes.\n",
    "    \"\"\"\n",
    "    # determine the (x, y)-coordinates of the intersection rectangle\n",
    "    xA = max(boxA[0], boxB[0])\n",
    "    yA = max(boxA[1], boxB[1])\n",
    "    xB = min(boxA[2], boxB[2])\n",
    "    yB = min(boxA[3], boxB[3])\n",
    "\n",
    "    # compute the area of intersection rectangle\n",
    "    interArea = max(0, xB - xA + 1) * max(0, yB - yA + 1)\n",
    "\n",
    "    # compute the area of both the prediction and ground-truth\n",
    "    # rectangles\n",
    "    boxAArea = (boxA[2] - boxA[0] + 1) * (boxA[3] - boxA[1] + 1)\n",
    "    boxBArea = (boxB[2] - boxB[0] + 1) * (boxB[3] - boxB[1] + 1)\n",
    "\n",
    "    # compute the intersection over union by taking the intersection\n",
    "    # area and dividing it by the sum of prediction + ground-truth\n",
    "    # areas - the interesection area\n",
    "    iou = interArea / float(boxAArea + boxBArea - interArea)\n",
    "\n",
    "    # return the intersection over union value\n",
    "    return iou"
   ]
  }
 ],
 "metadata": {
  "kernelspec": {
   "display_name": "Python 3",
   "language": "python",
   "name": "python3"
  },
  "language_info": {
   "codemirror_mode": {
    "name": "ipython",
    "version": 2
   },
   "file_extension": ".py",
   "mimetype": "text/x-python",
   "name": "python",
   "nbconvert_exporter": "python",
   "pygments_lexer": "ipython2",
   "version": "2.7.6"
  }
 },
 "nbformat": 4,
 "nbformat_minor": 0
}