{
 "cells": [
  {
   "cell_type": "markdown",
   "source": [
    "# Data pre-processing\n",
    "1. Using selective search to find proposed objects from each image\n",
    "2. Using IoU to check if proposed object box overlaps with any of the real boxes and if they do, we mark them as positives samples, and if not, we mark them as negative samples."
   ],
   "metadata": {
    "collapsed": false,
    "pycharm": {
     "name": "#%% md\n"
    }
   }
  },
  {
   "cell_type": "code",
   "execution_count": 339,
   "outputs": [],
   "source": [
    "import cv2\n",
    "import os\n",
    "import numpy as np\n",
    "import matplotlib.pyplot as plt\n",
    "from sklearn.model_selection import train_test_split\n",
    "from utils.IoU import compute_iou"
   ],
   "metadata": {
    "collapsed": false,
    "pycharm": {
     "name": "#%%\n"
    }
   }
  },
  {
   "cell_type": "markdown",
   "source": [
    "### Setting up paths here for original images and labels path"
   ],
   "metadata": {
    "collapsed": false,
    "pycharm": {
     "name": "#%% md\n"
    }
   }
  },
  {
   "cell_type": "code",
   "execution_count": 340,
   "outputs": [],
   "source": [
    "cwd = os.getcwd()\n",
    "\n",
    "original_data_path = \"original_data\"\n",
    "original_images_path = os.path.join(cwd, original_data_path, \"images\")\n",
    "original_labels_path = os.path.join(cwd, original_data_path, \"labels\")"
   ],
   "metadata": {
    "collapsed": false,
    "pycharm": {
     "name": "#%%\n"
    }
   }
  },
  {
   "cell_type": "markdown",
   "source": [
    "### Setting up paths here for proposed images and labels path"
   ],
   "metadata": {
    "collapsed": false,
    "pycharm": {
     "name": "#%% md\n"
    }
   }
  },
  {
   "cell_type": "code",
   "execution_count": 341,
   "outputs": [],
   "source": [
    "base_path = \"proposed_dataset\"\n",
    "proposed_car = os.path.join(cwd, base_path, \"car\")\n",
    "proposed_non_car = os.path.join(cwd, base_path, \"non_car\")"
   ],
   "metadata": {
    "collapsed": false,
    "pycharm": {
     "name": "#%%\n"
    }
   }
  },
  {
   "cell_type": "markdown",
   "source": [
    "### Max proposed objects per image found using selective search"
   ],
   "metadata": {
    "collapsed": false,
    "pycharm": {
     "name": "#%% md\n"
    }
   }
  },
  {
   "cell_type": "code",
   "execution_count": 342,
   "outputs": [],
   "source": [
    "max_proposals = 5000\n",
    "max_proposal_infer = 200"
   ],
   "metadata": {
    "collapsed": false,
    "pycharm": {
     "name": "#%%\n"
    }
   }
  },
  {
   "cell_type": "markdown",
   "source": [
    "### Max number of positive and negative samples to be generated per image"
   ],
   "metadata": {
    "collapsed": false,
    "pycharm": {
     "name": "#%% md\n"
    }
   }
  },
  {
   "cell_type": "code",
   "execution_count": 343,
   "outputs": [],
   "source": [
    "max_positive = 30\n",
    "max_negative = 10"
   ],
   "metadata": {
    "collapsed": false,
    "pycharm": {
     "name": "#%%\n"
    }
   }
  },
  {
   "cell_type": "code",
   "execution_count": 344,
   "outputs": [],
   "source": [
    "input_dimension = (640, 480)\n",
    "model_path = \"car_detector.h5\""
   ],
   "metadata": {
    "collapsed": false,
    "pycharm": {
     "name": "#%%\n"
    }
   }
  },
  {
   "cell_type": "code",
   "execution_count": 345,
   "outputs": [],
   "source": [
    "def selective_search(image, method=\"fast\"):\n",
    "    ss = cv2.ximgproc.segmentation.createSelectiveSearchSegmentation()\n",
    "    ss.setBaseImage(image)\n",
    "    if method == \"fast\":\n",
    "        ss.switchToSelectiveSearchFast()\n",
    "    else:\n",
    "        ss.switchToSelectiveSearchQuality()\n",
    "    rects = ss.process()\n",
    "    return rects"
   ],
   "metadata": {
    "collapsed": false,
    "pycharm": {
     "name": "#%%\n"
    }
   }
  },
  {
   "cell_type": "code",
   "execution_count": 346,
   "outputs": [],
   "source": [
    "def load_image(image_path):\n",
    "    \"\"\"\n",
    "    Load image from path and convert it to RGB and resize it to input dimension\n",
    "    Parameters:\n",
    "        image_path: path to image\n",
    "    Returns:\n",
    "        image: ndarray of shape (640, 480, 3)\n",
    "    \"\"\"\n",
    "    image = cv2.imread(image_path, cv2.IMREAD_COLOR)\n",
    "    image = cv2.cvtColor(image, cv2.COLOR_BGR2RGB)\n",
    "    image = cv2.resize(image, input_dimension)\n",
    "    return image"
   ],
   "metadata": {
    "collapsed": false,
    "pycharm": {
     "name": "#%%\n"
    }
   }
  },
  {
   "cell_type": "code",
   "execution_count": 347,
   "outputs": [],
   "source": [
    "def load_label(label_path):\n",
    "    \"\"\"\n",
    "    Loads all the label information from the label file for one image. Makes dictionary with all the objects found in the file.\n",
    "    Parameters:\n",
    "        label_path: path to label\n",
    "    Returns:\n",
    "        label: dictionary\n",
    "    \"\"\"\n",
    "    with open(label_path, \"r\") as f:\n",
    "        lines = f.readlines()\n",
    "    labels = {}\n",
    "    for line in lines:\n",
    "        line = line.strip().split(\" \")\n",
    "        width = int(float(line[3]) * input_dimension[0])\n",
    "        height = int(float(line[4]) * input_dimension[1])\n",
    "        x_min = int(float(line[1]) * input_dimension[0] - (width / 2))\n",
    "        y_min = int(float(line[2]) * input_dimension[1] - (height / 2))\n",
    "        x_max = int(x_min + width)\n",
    "        y_max = int(y_min + height)\n",
    "        labels[line[0]] = {\n",
    "            \"x_min\": x_min,\n",
    "            \"y_min\": y_min,\n",
    "            \"x_max\": x_max,\n",
    "            \"y_max\": y_max,\n",
    "        }\n",
    "    return labels"
   ],
   "metadata": {
    "collapsed": false,
    "pycharm": {
     "name": "#%%\n"
    }
   }
  },
  {
   "cell_type": "code",
   "execution_count": 348,
   "outputs": [],
   "source": [
    "def save_image(image, image_path):\n",
    "    \"\"\"\n",
    "    Saves image to path\n",
    "    Parameters:\n",
    "        image: ndarray of shape (640, 480, 3)\n",
    "        image_path: path to save image\n",
    "    \"\"\"\n",
    "    image = cv2.cvtColor(image, cv2.COLOR_RGB2BGR)\n",
    "    cv2.imwrite(image_path, image)"
   ],
   "metadata": {
    "collapsed": false,
    "pycharm": {
     "name": "#%%\n"
    }
   }
  },
  {
   "cell_type": "code",
   "execution_count": 349,
   "outputs": [],
   "source": [
    "def compare_proposed_rect_to_one_label(rect, label):\n",
    "    \"\"\"\n",
    "    Compares proposed object box to one label box and return True if IoU is greater than 0.7, false if IoU is less than 0.05 and None if IoU is between 0.05 and 0.7.\n",
    "    Parameters:\n",
    "        rect: tuple of (x_min, y_min, x_max, y_max)\n",
    "        label: dictionary\n",
    "    Returns:\n",
    "        iou: float\n",
    "    \"\"\"\n",
    "    IoU = compute_iou(label, rect)\n",
    "    if IoU > 0.7:\n",
    "        return True\n",
    "    elif IoU < 0.05:\n",
    "        return False\n",
    "    else:\n",
    "        return None"
   ],
   "metadata": {
    "collapsed": false,
    "pycharm": {
     "name": "#%%\n"
    }
   }
  },
  {
   "cell_type": "code",
   "execution_count": 350,
   "outputs": [],
   "source": [
    "def check_all_rectangles(rect, labels, image):\n",
    "    \"\"\"\n",
    "    Checks if proposed object box overlaps with any of the real boxes and if they do, we mark them as positives samples, and if not, we mark them as negative samples.\n",
    "    Also saves all the positive and negative samples to folder.\n",
    "    Parameters:\n",
    "        rect: proposed object box\n",
    "        labels: dictionary of real boxes\n",
    "    Returns:\n",
    "        label: 1 if positive sample, 0 if negative sample\n",
    "    \"\"\"\n",
    "    positive_ROI = 0\n",
    "    negative_ROI = 0\n",
    "    global totalPositive\n",
    "    global totalNegative\n",
    "\n",
    "    for k, v in labels.items():\n",
    "        real_box = [v[\"x_min\"], v[\"y_min\"], v[\"x_max\"], v[\"y_max\"]]\n",
    "        value = compare_proposed_rect_to_one_label(rect, real_box)\n",
    "\n",
    "        fullOverLap = rect[0] >= real_box[0]\n",
    "        fullOverLap = fullOverLap and rect[1] >= real_box[1]\n",
    "        fullOverLap = fullOverLap and rect[2] <= real_box[2]\n",
    "        fullOverLap = fullOverLap and rect[3] <= real_box[3]\n",
    "\n",
    "        if value is True and positive_ROI < max_positive:\n",
    "            roi = image[rect[1] : rect[3], rect[0] : rect[2]]\n",
    "            roi = cv2.resize(roi, input_dimension, interpolation=cv2.INTER_CUBIC)\n",
    "            filename = f\"{totalPositive}.jpg\"\n",
    "            output_path = os.path.join(proposed_car, filename)\n",
    "            save_image(roi, output_path)\n",
    "            positive_ROI += 1\n",
    "            totalPositive += 1\n",
    "        elif value is False and negative_ROI < max_negative and not fullOverLap: # TODO Fix negative_roi < max_negative not working, will save every image\n",
    "            roi = image[rect[1] : rect[3], rect[0] : rect[2]]\n",
    "            roi = cv2.resize(roi, input_dimension, interpolation=cv2.INTER_CUBIC)\n",
    "            filename = f\"{totalNegative}.jpg\"\n",
    "            output_path = os.path.join(proposed_non_car, filename)\n",
    "            save_image(roi, output_path)\n",
    "            negative_ROI += 1\n",
    "            totalNegative += 1\n"
   ],
   "metadata": {
    "collapsed": false,
    "pycharm": {
     "name": "#%%\n"
    }
   }
  },
  {
   "cell_type": "code",
   "execution_count": 351,
   "outputs": [],
   "source": [
    "def draw_image_with_box(image, box_coords):\n",
    "    \"\"\"\n",
    "    Draws box on image\n",
    "    Parameters:\n",
    "        image: ndarray of shape (224, 224, 3)\n",
    "        box_coords: tuple of (x, y, w, h)\n",
    "    Returns:\n",
    "        image: ndarray of shape (224, 224, 3)\n",
    "    \"\"\"\n",
    "    x_min, y_min, x_max, y_max = box_coords\n",
    "    image = cv2.rectangle(\n",
    "        image, (x_min, y_max), (x_max, y_min), (0, 255, 0), 2\n",
    "    )\n",
    "    fig = plt.figure(figsize=(10, 10))\n",
    "    plt.imshow(image)\n",
    "    plt.show()"
   ],
   "metadata": {
    "collapsed": false,
    "pycharm": {
     "name": "#%%\n"
    }
   }
  },
  {
   "cell_type": "code",
   "execution_count": 352,
   "outputs": [
    {
     "name": "stdout",
     "output_type": "stream",
     "text": [
      "Total images to process:  46\n"
     ]
    }
   ],
   "source": [
    "images_to_process = len(os.listdir(original_images_path))\n",
    "print(\"Total images to process: \", images_to_process)"
   ],
   "metadata": {
    "collapsed": false,
    "pycharm": {
     "name": "#%%\n"
    }
   }
  },
  {
   "cell_type": "code",
   "execution_count": 353,
   "outputs": [
    {
     "name": "stdout",
     "output_type": "stream",
     "text": [
      "Processing image:  1 / 46\n",
      "Image path:  C:\\Users\\Alibaba\\Desktop\\deep_learning_project\\deep_learning_project\\R-CNN-test\\original_data\\images\\0a22af19-frame27500.jpg\n",
      "Total proposed objects:  1543\n",
      "----------------------------------------------------------------------------------------------------\n",
      "Processing image:  2 / 46\n",
      "Image path:  C:\\Users\\Alibaba\\Desktop\\deep_learning_project\\deep_learning_project\\R-CNN-test\\original_data\\images\\121e2adf-frame23000.jpg\n",
      "Total proposed objects:  1422\n",
      "----------------------------------------------------------------------------------------------------\n",
      "Processing image:  3 / 46\n",
      "Image path:  C:\\Users\\Alibaba\\Desktop\\deep_learning_project\\deep_learning_project\\R-CNN-test\\original_data\\images\\1343e87c-frame14500.jpg\n",
      "Total proposed objects:  1503\n",
      "----------------------------------------------------------------------------------------------------\n",
      "Processing image:  4 / 46\n",
      "Image path:  C:\\Users\\Alibaba\\Desktop\\deep_learning_project\\deep_learning_project\\R-CNN-test\\original_data\\images\\1362efa6-frame1500.jpg\n",
      "Total proposed objects:  1600\n",
      "----------------------------------------------------------------------------------------------------\n",
      "Processing image:  5 / 46\n",
      "Image path:  C:\\Users\\Alibaba\\Desktop\\deep_learning_project\\deep_learning_project\\R-CNN-test\\original_data\\images\\18c8387b-frame3500.jpg\n",
      "Total proposed objects:  1429\n",
      "----------------------------------------------------------------------------------------------------\n",
      "Processing image:  6 / 46\n",
      "Image path:  C:\\Users\\Alibaba\\Desktop\\deep_learning_project\\deep_learning_project\\R-CNN-test\\original_data\\images\\1a91e7aa-frame13000.jpg\n",
      "Total proposed objects:  1541\n",
      "----------------------------------------------------------------------------------------------------\n",
      "Processing image:  7 / 46\n",
      "Image path:  C:\\Users\\Alibaba\\Desktop\\deep_learning_project\\deep_learning_project\\R-CNN-test\\original_data\\images\\2790db9c-frame9000.jpg\n",
      "Total proposed objects:  1819\n",
      "----------------------------------------------------------------------------------------------------\n",
      "Processing image:  8 / 46\n",
      "Image path:  C:\\Users\\Alibaba\\Desktop\\deep_learning_project\\deep_learning_project\\R-CNN-test\\original_data\\images\\2d53cbba-frame26500.jpg\n",
      "Total proposed objects:  1514\n",
      "----------------------------------------------------------------------------------------------------\n",
      "Processing image:  9 / 46\n",
      "Image path:  C:\\Users\\Alibaba\\Desktop\\deep_learning_project\\deep_learning_project\\R-CNN-test\\original_data\\images\\309e7aaf-frame500.jpg\n",
      "Total proposed objects:  1516\n",
      "----------------------------------------------------------------------------------------------------\n",
      "Processing image:  10 / 46\n",
      "Image path:  C:\\Users\\Alibaba\\Desktop\\deep_learning_project\\deep_learning_project\\R-CNN-test\\original_data\\images\\30d2f8e1-frame9500.jpg\n",
      "Total proposed objects:  1633\n",
      "----------------------------------------------------------------------------------------------------\n",
      "Processing image:  11 / 46\n",
      "Image path:  C:\\Users\\Alibaba\\Desktop\\deep_learning_project\\deep_learning_project\\R-CNN-test\\original_data\\images\\397e4f3b-frame8000.jpg\n",
      "Total proposed objects:  1446\n",
      "----------------------------------------------------------------------------------------------------\n",
      "Processing image:  12 / 46\n",
      "Image path:  C:\\Users\\Alibaba\\Desktop\\deep_learning_project\\deep_learning_project\\R-CNN-test\\original_data\\images\\402afb4b-frame2500.jpg\n",
      "Total proposed objects:  1500\n",
      "----------------------------------------------------------------------------------------------------\n",
      "Processing image:  13 / 46\n",
      "Image path:  C:\\Users\\Alibaba\\Desktop\\deep_learning_project\\deep_learning_project\\R-CNN-test\\original_data\\images\\4157e6af-frame18000.jpg\n",
      "Total proposed objects:  1485\n",
      "----------------------------------------------------------------------------------------------------\n",
      "Processing image:  14 / 46\n",
      "Image path:  C:\\Users\\Alibaba\\Desktop\\deep_learning_project\\deep_learning_project\\R-CNN-test\\original_data\\images\\475a427e-frame6500.jpg\n",
      "Total proposed objects:  1431\n",
      "----------------------------------------------------------------------------------------------------\n",
      "Processing image:  15 / 46\n",
      "Image path:  C:\\Users\\Alibaba\\Desktop\\deep_learning_project\\deep_learning_project\\R-CNN-test\\original_data\\images\\4777615f-frame4500.jpg\n",
      "Total proposed objects:  1686\n",
      "----------------------------------------------------------------------------------------------------\n",
      "Processing image:  16 / 46\n",
      "Image path:  C:\\Users\\Alibaba\\Desktop\\deep_learning_project\\deep_learning_project\\R-CNN-test\\original_data\\images\\491bfbb6-frame7000.jpg\n",
      "Total proposed objects:  1432\n",
      "----------------------------------------------------------------------------------------------------\n",
      "Processing image:  17 / 46\n",
      "Image path:  C:\\Users\\Alibaba\\Desktop\\deep_learning_project\\deep_learning_project\\R-CNN-test\\original_data\\images\\4a3205f6-frame12000.jpg\n",
      "Total proposed objects:  1709\n",
      "----------------------------------------------------------------------------------------------------\n",
      "Processing image:  18 / 46\n",
      "Image path:  C:\\Users\\Alibaba\\Desktop\\deep_learning_project\\deep_learning_project\\R-CNN-test\\original_data\\images\\57b76ee4-frame1000.jpg\n",
      "Total proposed objects:  1482\n",
      "----------------------------------------------------------------------------------------------------\n",
      "Processing image:  19 / 46\n",
      "Image path:  C:\\Users\\Alibaba\\Desktop\\deep_learning_project\\deep_learning_project\\R-CNN-test\\original_data\\images\\602c856b-frame29500.jpg\n",
      "Total proposed objects:  1686\n",
      "----------------------------------------------------------------------------------------------------\n",
      "Processing image:  20 / 46\n",
      "Image path:  C:\\Users\\Alibaba\\Desktop\\deep_learning_project\\deep_learning_project\\R-CNN-test\\original_data\\images\\6322045b-frame10000.jpg\n",
      "Total proposed objects:  1636\n",
      "----------------------------------------------------------------------------------------------------\n",
      "Processing image:  21 / 46\n",
      "Image path:  C:\\Users\\Alibaba\\Desktop\\deep_learning_project\\deep_learning_project\\R-CNN-test\\original_data\\images\\69739eb2-frame3000.jpg\n",
      "Total proposed objects:  1791\n",
      "----------------------------------------------------------------------------------------------------\n",
      "Processing image:  22 / 46\n",
      "Image path:  C:\\Users\\Alibaba\\Desktop\\deep_learning_project\\deep_learning_project\\R-CNN-test\\original_data\\images\\7e5bcd6b-frame12500.jpg\n",
      "Total proposed objects:  1527\n",
      "----------------------------------------------------------------------------------------------------\n",
      "Processing image:  23 / 46\n",
      "Image path:  C:\\Users\\Alibaba\\Desktop\\deep_learning_project\\deep_learning_project\\R-CNN-test\\original_data\\images\\8ef2169f-frame11500.jpg\n",
      "Total proposed objects:  1584\n",
      "----------------------------------------------------------------------------------------------------\n",
      "Processing image:  24 / 46\n",
      "Image path:  C:\\Users\\Alibaba\\Desktop\\deep_learning_project\\deep_learning_project\\R-CNN-test\\original_data\\images\\9a03617f-frame4000.jpg\n",
      "Total proposed objects:  1514\n",
      "----------------------------------------------------------------------------------------------------\n",
      "Processing image:  25 / 46\n",
      "Image path:  C:\\Users\\Alibaba\\Desktop\\deep_learning_project\\deep_learning_project\\R-CNN-test\\original_data\\images\\af6b0c28-frame5000.jpg\n",
      "Total proposed objects:  1447\n",
      "----------------------------------------------------------------------------------------------------\n",
      "Processing image:  26 / 46\n",
      "Image path:  C:\\Users\\Alibaba\\Desktop\\deep_learning_project\\deep_learning_project\\R-CNN-test\\original_data\\images\\b8fb9ac4-frame2000.jpg\n",
      "Total proposed objects:  1507\n",
      "----------------------------------------------------------------------------------------------------\n",
      "Processing image:  27 / 46\n",
      "Image path:  C:\\Users\\Alibaba\\Desktop\\deep_learning_project\\deep_learning_project\\R-CNN-test\\original_data\\images\\bafa2407-frame28000.jpg\n",
      "Total proposed objects:  1557\n",
      "----------------------------------------------------------------------------------------------------\n",
      "Processing image:  28 / 46\n",
      "Image path:  C:\\Users\\Alibaba\\Desktop\\deep_learning_project\\deep_learning_project\\R-CNN-test\\original_data\\images\\bf23718a-frame22500.jpg\n",
      "Total proposed objects:  1809\n",
      "----------------------------------------------------------------------------------------------------\n",
      "Processing image:  29 / 46\n",
      "Image path:  C:\\Users\\Alibaba\\Desktop\\deep_learning_project\\deep_learning_project\\R-CNN-test\\original_data\\images\\bff3d898-frame10500.jpg\n",
      "Total proposed objects:  1838\n",
      "----------------------------------------------------------------------------------------------------\n",
      "Processing image:  30 / 46\n",
      "Image path:  C:\\Users\\Alibaba\\Desktop\\deep_learning_project\\deep_learning_project\\R-CNN-test\\original_data\\images\\c0ac5186-frame11000.jpg\n",
      "Total proposed objects:  1613\n",
      "----------------------------------------------------------------------------------------------------\n",
      "Processing image:  31 / 46\n",
      "Image path:  C:\\Users\\Alibaba\\Desktop\\deep_learning_project\\deep_learning_project\\R-CNN-test\\original_data\\images\\c2cf7d35-frame21500.jpg\n",
      "Total proposed objects:  1406\n",
      "----------------------------------------------------------------------------------------------------\n",
      "Processing image:  32 / 46\n",
      "Image path:  C:\\Users\\Alibaba\\Desktop\\deep_learning_project\\deep_learning_project\\R-CNN-test\\original_data\\images\\c558f15f-frame6000.jpg\n",
      "Total proposed objects:  1808\n",
      "----------------------------------------------------------------------------------------------------\n",
      "Processing image:  33 / 46\n",
      "Image path:  C:\\Users\\Alibaba\\Desktop\\deep_learning_project\\deep_learning_project\\R-CNN-test\\original_data\\images\\c9d57cfd-frame14000.jpg\n",
      "Total proposed objects:  1475\n",
      "----------------------------------------------------------------------------------------------------\n",
      "Processing image:  34 / 46\n",
      "Image path:  C:\\Users\\Alibaba\\Desktop\\deep_learning_project\\deep_learning_project\\R-CNN-test\\original_data\\images\\cc01e827-frame13500.jpg\n",
      "Total proposed objects:  1626\n",
      "----------------------------------------------------------------------------------------------------\n",
      "Processing image:  35 / 46\n",
      "Image path:  C:\\Users\\Alibaba\\Desktop\\deep_learning_project\\deep_learning_project\\R-CNN-test\\original_data\\images\\d12aad7d-frame5500.jpg\n",
      "Total proposed objects:  1469\n",
      "----------------------------------------------------------------------------------------------------\n",
      "Processing image:  36 / 46\n",
      "Image path:  C:\\Users\\Alibaba\\Desktop\\deep_learning_project\\deep_learning_project\\R-CNN-test\\original_data\\images\\d2908edc-frame15000.jpg\n",
      "Total proposed objects:  1548\n",
      "----------------------------------------------------------------------------------------------------\n",
      "Processing image:  37 / 46\n",
      "Image path:  C:\\Users\\Alibaba\\Desktop\\deep_learning_project\\deep_learning_project\\R-CNN-test\\original_data\\images\\d4c2902d-frame17000.jpg\n",
      "Total proposed objects:  1372\n",
      "----------------------------------------------------------------------------------------------------\n",
      "Processing image:  38 / 46\n",
      "Image path:  C:\\Users\\Alibaba\\Desktop\\deep_learning_project\\deep_learning_project\\R-CNN-test\\original_data\\images\\d633476d-frame15500.jpg\n",
      "Total proposed objects:  1481\n",
      "----------------------------------------------------------------------------------------------------\n",
      "Processing image:  39 / 46\n",
      "Image path:  C:\\Users\\Alibaba\\Desktop\\deep_learning_project\\deep_learning_project\\R-CNN-test\\original_data\\images\\da57d934-frame7500.jpg\n",
      "Total proposed objects:  1726\n",
      "----------------------------------------------------------------------------------------------------\n",
      "Processing image:  40 / 46\n",
      "Image path:  C:\\Users\\Alibaba\\Desktop\\deep_learning_project\\deep_learning_project\\R-CNN-test\\original_data\\images\\db3025cc-frame8500.jpg\n",
      "Total proposed objects:  1630\n",
      "----------------------------------------------------------------------------------------------------\n",
      "Processing image:  41 / 46\n",
      "Image path:  C:\\Users\\Alibaba\\Desktop\\deep_learning_project\\deep_learning_project\\R-CNN-test\\original_data\\images\\ded18596-frame26000.jpg\n",
      "Total proposed objects:  1377\n",
      "----------------------------------------------------------------------------------------------------\n",
      "Processing image:  42 / 46\n",
      "Image path:  C:\\Users\\Alibaba\\Desktop\\deep_learning_project\\deep_learning_project\\R-CNN-test\\original_data\\images\\e2269105-frame27000.jpg\n",
      "Total proposed objects:  1882\n",
      "----------------------------------------------------------------------------------------------------\n",
      "Processing image:  43 / 46\n",
      "Image path:  C:\\Users\\Alibaba\\Desktop\\deep_learning_project\\deep_learning_project\\R-CNN-test\\original_data\\images\\e3e1f5e0-frame17500.jpg\n",
      "Total proposed objects:  1373\n",
      "----------------------------------------------------------------------------------------------------\n",
      "Processing image:  44 / 46\n",
      "Image path:  C:\\Users\\Alibaba\\Desktop\\deep_learning_project\\deep_learning_project\\R-CNN-test\\original_data\\images\\e85027f4-frame21000.jpg\n",
      "Total proposed objects:  1566\n",
      "----------------------------------------------------------------------------------------------------\n",
      "Processing image:  45 / 46\n",
      "Image path:  C:\\Users\\Alibaba\\Desktop\\deep_learning_project\\deep_learning_project\\R-CNN-test\\original_data\\images\\e855c614-frame25000.jpg\n",
      "Total proposed objects:  1513\n",
      "----------------------------------------------------------------------------------------------------\n",
      "Processing image:  46 / 46\n",
      "Image path:  C:\\Users\\Alibaba\\Desktop\\deep_learning_project\\deep_learning_project\\R-CNN-test\\original_data\\images\\e8ecc833-frame19000.jpg\n",
      "Total proposed objects:  1338\n",
      "----------------------------------------------------------------------------------------------------\n"
     ]
    }
   ],
   "source": [
    "totalPositive = 0\n",
    "totalNegative = 0\n",
    "\n",
    "for i, image_name in enumerate(os.listdir(original_images_path)[:]):\n",
    "    print(\"Processing image: \", i + 1, \"/\", images_to_process)\n",
    "    image_path = os.path.join(original_images_path, image_name)\n",
    "    label_path = os.path.join(original_labels_path, image_name.split(\".\")[0] + \".txt\")\n",
    "    print(\"Image path: \", image_path)\n",
    "    image = load_image(image_path)\n",
    "    labels = load_label(label_path)\n",
    "    rects = selective_search(image)\n",
    "    positive_count = 0\n",
    "    negative_count = 0\n",
    "    print(\"Total proposed objects: \", len(rects))\n",
    "\n",
    "    # draw_image_with_box(image, (labels[\"0\"][\"x_min\"], labels[\"0\"][\"y_min\"], labels[\"0\"][\"x_max\"], labels[\"0\"][\"y_max\"]))\n",
    "\n",
    "    for rect in rects[:max_proposals]:\n",
    "        x, y, w, h = rect\n",
    "        x_min = x\n",
    "        y_min = y\n",
    "        x_max = x + w\n",
    "        y_max = y + h\n",
    "        proposed_box = [x_min, y_min, x_max, y_max]\n",
    "        if x < 0 or y < 0 or w < 0 or h < 0:\n",
    "            continue\n",
    "        if x + w > image.shape[1] or y + h > image.shape[0]:\n",
    "            continue\n",
    "        check_all_rectangles(proposed_box, labels, image)\n",
    "\n",
    "    print(\"-\"*100)"
   ],
   "metadata": {
    "collapsed": false,
    "pycharm": {
     "name": "#%%\n"
    }
   }
  },
  {
   "cell_type": "code",
   "execution_count": 353,
   "outputs": [],
   "source": [],
   "metadata": {
    "collapsed": false,
    "pycharm": {
     "name": "#%%\n"
    }
   }
  }
 ],
 "metadata": {
  "kernelspec": {
   "display_name": "Python 3",
   "language": "python",
   "name": "python3"
  },
  "language_info": {
   "codemirror_mode": {
    "name": "ipython",
    "version": 2
   },
   "file_extension": ".py",
   "mimetype": "text/x-python",
   "name": "python",
   "nbconvert_exporter": "python",
   "pygments_lexer": "ipython2",
   "version": "2.7.6"
  }
 },
 "nbformat": 4,
 "nbformat_minor": 0
}