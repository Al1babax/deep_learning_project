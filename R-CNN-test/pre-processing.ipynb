{
 "cells": [
  {
   "cell_type": "markdown",
   "source": [
    "# Data pre-processing\n",
    "1. Using selective search to find proposed objects from each image\n",
    "2. Using IoU to check if proposed object box overlaps with any of the real boxes and if they do, we mark them as positives samples, and if not, we mark them as negative samples."
   ],
   "metadata": {
    "collapsed": false,
    "pycharm": {
     "name": "#%% md\n"
    }
   }
  },
  {
   "cell_type": "code",
   "execution_count": 257,
   "outputs": [],
   "source": [
    "import cv2\n",
    "import os\n",
    "import numpy as np\n",
    "import matplotlib.pyplot as plt\n",
    "from sklearn.model_selection import train_test_split\n",
    "from utils.IoU import compute_iou"
   ],
   "metadata": {
    "collapsed": false,
    "pycharm": {
     "name": "#%%\n"
    }
   }
  },
  {
   "cell_type": "markdown",
   "source": [
    "### Setting up paths here for original images and labels path"
   ],
   "metadata": {
    "collapsed": false,
    "pycharm": {
     "name": "#%% md\n"
    }
   }
  },
  {
   "cell_type": "code",
   "execution_count": 258,
   "outputs": [],
   "source": [
    "cwd = os.getcwd()\n",
    "\n",
    "original_data_path = \"original_data\"\n",
    "original_images_path = os.path.join(cwd, original_data_path, \"images\")\n",
    "original_labels_path = os.path.join(cwd, original_data_path, \"labels\")"
   ],
   "metadata": {
    "collapsed": false,
    "pycharm": {
     "name": "#%%\n"
    }
   }
  },
  {
   "cell_type": "markdown",
   "source": [
    "### Setting up paths here for proposed images and labels path"
   ],
   "metadata": {
    "collapsed": false,
    "pycharm": {
     "name": "#%% md\n"
    }
   }
  },
  {
   "cell_type": "code",
   "execution_count": 259,
   "outputs": [],
   "source": [
    "base_path = \"proposed_dataset\"\n",
    "proposed_car = os.path.join(cwd, base_path, \"car\")\n",
    "proposed_non_car = os.path.join(cwd, base_path, \"non_car\")"
   ],
   "metadata": {
    "collapsed": false,
    "pycharm": {
     "name": "#%%\n"
    }
   }
  },
  {
   "cell_type": "markdown",
   "source": [
    "### Max proposed objects per image found using selective search"
   ],
   "metadata": {
    "collapsed": false,
    "pycharm": {
     "name": "#%% md\n"
    }
   }
  },
  {
   "cell_type": "code",
   "execution_count": 260,
   "outputs": [],
   "source": [
    "max_proposals = 5000\n",
    "max_proposal_infer = 200"
   ],
   "metadata": {
    "collapsed": false,
    "pycharm": {
     "name": "#%%\n"
    }
   }
  },
  {
   "cell_type": "markdown",
   "source": [
    "### Max number of positive and negative samples to be generated per image"
   ],
   "metadata": {
    "collapsed": false,
    "pycharm": {
     "name": "#%% md\n"
    }
   }
  },
  {
   "cell_type": "code",
   "execution_count": 261,
   "outputs": [],
   "source": [
    "max_positive = 30\n",
    "max_negative = 10"
   ],
   "metadata": {
    "collapsed": false,
    "pycharm": {
     "name": "#%%\n"
    }
   }
  },
  {
   "cell_type": "code",
   "execution_count": 262,
   "outputs": [],
   "source": [
    "input_dimension = (640, 480)\n",
    "model_path = \"car_detector.h5\""
   ],
   "metadata": {
    "collapsed": false,
    "pycharm": {
     "name": "#%%\n"
    }
   }
  },
  {
   "cell_type": "code",
   "execution_count": 263,
   "outputs": [],
   "source": [
    "def selective_search(image, method=\"q\"):\n",
    "    ss = cv2.ximgproc.segmentation.createSelectiveSearchSegmentation()\n",
    "    ss.setBaseImage(image)\n",
    "    if method == \"fast\":\n",
    "        ss.switchToSelectiveSearchFast()\n",
    "    else:\n",
    "        ss.switchToSelectiveSearchQuality()\n",
    "    rects = ss.process()\n",
    "    return rects"
   ],
   "metadata": {
    "collapsed": false,
    "pycharm": {
     "name": "#%%\n"
    }
   }
  },
  {
   "cell_type": "code",
   "execution_count": 264,
   "outputs": [],
   "source": [
    "def load_image(image_path):\n",
    "    \"\"\"\n",
    "    Load image from path and convert it to RGB and resize it to input dimension\n",
    "    Parameters:\n",
    "        image_path: path to image\n",
    "    Returns:\n",
    "        image: ndarray of shape (640, 480, 3)\n",
    "    \"\"\"\n",
    "    image = cv2.imread(image_path, cv2.IMREAD_COLOR)\n",
    "    image = cv2.cvtColor(image, cv2.COLOR_BGR2RGB)\n",
    "    image = cv2.resize(image, input_dimension)\n",
    "    return image"
   ],
   "metadata": {
    "collapsed": false,
    "pycharm": {
     "name": "#%%\n"
    }
   }
  },
  {
   "cell_type": "code",
   "execution_count": 265,
   "outputs": [],
   "source": [
    "def load_label(label_path):\n",
    "    \"\"\"\n",
    "    Loads all the label information from the label file for one image. Makes dictionary with all the objects found in the file.\n",
    "    Parameters:\n",
    "        label_path: path to label\n",
    "    Returns:\n",
    "        label: dictionary\n",
    "    \"\"\"\n",
    "    with open(label_path, \"r\") as f:\n",
    "        lines = f.readlines()\n",
    "    labels = {}\n",
    "    for count, line in enumerate(lines):\n",
    "        line = line.strip().split(\" \")\n",
    "        width = int(float(line[3]) * input_dimension[0])\n",
    "        height = int(float(line[4]) * input_dimension[1])\n",
    "        x_min = int(float(line[1]) * input_dimension[0] - (width / 2))\n",
    "        y_min = int(float(line[2]) * input_dimension[1] - (height / 2))\n",
    "        x_max = int(x_min + width)\n",
    "        y_max = int(y_min + height)\n",
    "        labels[count] = {\n",
    "            \"x_min\": x_min,\n",
    "            \"y_min\": y_min,\n",
    "            \"x_max\": x_max,\n",
    "            \"y_max\": y_max,\n",
    "            \"class\": line[0],\n",
    "        }\n",
    "    return labels"
   ],
   "metadata": {
    "collapsed": false,
    "pycharm": {
     "name": "#%%\n"
    }
   }
  },
  {
   "cell_type": "code",
   "execution_count": 266,
   "outputs": [],
   "source": [
    "def save_image(image, image_path):\n",
    "    \"\"\"\n",
    "    Saves image to path\n",
    "    Parameters:\n",
    "        image: ndarray of shape (640, 480, 3)\n",
    "        image_path: path to save image\n",
    "    \"\"\"\n",
    "    image = cv2.cvtColor(image, cv2.COLOR_RGB2BGR)\n",
    "    cv2.imwrite(image_path, image)"
   ],
   "metadata": {
    "collapsed": false,
    "pycharm": {
     "name": "#%%\n"
    }
   }
  },
  {
   "cell_type": "code",
   "execution_count": 267,
   "outputs": [],
   "source": [
    "def compare_proposed_rect_to_one_label(rect, label):\n",
    "    \"\"\"\n",
    "    Compares proposed object box to one label box and return True if IoU is greater than 0.7, false if IoU is less than 0.05 and None if IoU is between 0.05 and 0.7.\n",
    "    Parameters:\n",
    "        rect: tuple of (x_min, y_min, x_max, y_max)\n",
    "        label: dictionary\n",
    "    Returns:\n",
    "        iou: float\n",
    "    \"\"\"\n",
    "    IoU = compute_iou(label, rect)\n",
    "    if IoU > 0.7:\n",
    "        return True\n",
    "    elif IoU < 0.05:\n",
    "        return False\n",
    "    else:\n",
    "        return None"
   ],
   "metadata": {
    "collapsed": false,
    "pycharm": {
     "name": "#%%\n"
    }
   }
  },
  {
   "cell_type": "code",
   "execution_count": 268,
   "outputs": [],
   "source": [
    "def check_all_rectangles(rect, labels, image, positive_ROI, negative_ROI):\n",
    "    \"\"\"\n",
    "    Checks if proposed object box overlaps with any of the real boxes and if they do, we mark them as positives samples, and if not, we mark them as negative samples.\n",
    "    Also saves all the positive and negative samples to folder.\n",
    "    Parameters:\n",
    "        rect: proposed object box\n",
    "        labels: dictionary of real boxes\n",
    "    Returns:\n",
    "        label: 1 if positive sample, 0 if negative sample\n",
    "    \"\"\"\n",
    "    global totalPositive\n",
    "    global totalNegative\n",
    "\n",
    "    for k, v in labels.items():\n",
    "        real_box = [v[\"x_min\"], v[\"y_min\"], v[\"x_max\"], v[\"y_max\"]]\n",
    "        # print(f\"real_box: {real_box}\")\n",
    "        value = compare_proposed_rect_to_one_label(rect, real_box)\n",
    "\n",
    "        fullOverLap = rect[0] >= real_box[0]\n",
    "        fullOverLap = fullOverLap and rect[1] >= real_box[1]\n",
    "        fullOverLap = fullOverLap and rect[2] <= real_box[2]\n",
    "        fullOverLap = fullOverLap and rect[3] <= real_box[3]\n",
    "\n",
    "        if value is True and positive_ROI < max_positive:\n",
    "            roi = image[rect[1] : rect[3], rect[0] : rect[2]]\n",
    "            roi = cv2.resize(roi, input_dimension, interpolation=cv2.INTER_CUBIC)\n",
    "            filename = f\"{totalPositive}.jpg\"\n",
    "            output_path = os.path.join(proposed_car, filename)\n",
    "            save_image(roi, output_path)\n",
    "            positive_ROI += 1\n",
    "            totalPositive += 1\n",
    "        elif value is False and negative_ROI < max_negative and not fullOverLap: # TODO Fix negative_roi < max_negative not working, will save every image\n",
    "            roi = image[rect[1] : rect[3], rect[0] : rect[2]]\n",
    "            roi = cv2.resize(roi, input_dimension, interpolation=cv2.INTER_CUBIC)\n",
    "            filename = f\"{totalNegative}.jpg\"\n",
    "            output_path = os.path.join(proposed_non_car, filename)\n",
    "            save_image(roi, output_path)\n",
    "            negative_ROI += 1\n",
    "            totalNegative += 1\n",
    "\n",
    "    return positive_ROI, negative_ROI"
   ],
   "metadata": {
    "collapsed": false,
    "pycharm": {
     "name": "#%%\n"
    }
   }
  },
  {
   "cell_type": "code",
   "execution_count": 269,
   "outputs": [],
   "source": [
    "def draw_image_with_box(image, box_coords):\n",
    "    \"\"\"\n",
    "    Draws box on image\n",
    "    Parameters:\n",
    "        image: ndarray of shape (224, 224, 3)\n",
    "        box_coords: tuple of (x, y, w, h)\n",
    "    Returns:\n",
    "        image: ndarray of shape (224, 224, 3)\n",
    "    \"\"\"\n",
    "    x_min, y_min, x_max, y_max = box_coords\n",
    "    image = cv2.rectangle(\n",
    "        image, (x_min, y_max), (x_max, y_min), (0, 255, 0), 2\n",
    "    )\n",
    "    fig = plt.figure(figsize=(10, 10))\n",
    "    plt.imshow(image)\n",
    "    plt.show()"
   ],
   "metadata": {
    "collapsed": false,
    "pycharm": {
     "name": "#%%\n"
    }
   }
  },
  {
   "cell_type": "code",
   "execution_count": 270,
   "outputs": [
    {
     "name": "stdout",
     "output_type": "stream",
     "text": [
      "Total images to process:  13\n"
     ]
    }
   ],
   "source": [
    "images_to_process = len(os.listdir(original_images_path))\n",
    "print(\"Total images to process: \", images_to_process)"
   ],
   "metadata": {
    "collapsed": false,
    "pycharm": {
     "name": "#%%\n"
    }
   }
  },
  {
   "cell_type": "code",
   "execution_count": 271,
   "outputs": [
    {
     "name": "stdout",
     "output_type": "stream",
     "text": [
      "Processing image:  1 / 13\n",
      "Image path:  C:\\Users\\Alibaba\\Desktop\\deep_learning_project\\deep_learning_project\\R-CNN-test\\original_data\\images\\1362efa6-frame1500.jpg\n",
      "Total proposed objects:  4921\n",
      "----------------------------------------------------------------------------------------------------\n",
      "Processing image:  2 / 13\n",
      "Image path:  C:\\Users\\Alibaba\\Desktop\\deep_learning_project\\deep_learning_project\\R-CNN-test\\original_data\\images\\18c8387b-frame3500.jpg\n",
      "Total proposed objects:  4602\n",
      "----------------------------------------------------------------------------------------------------\n",
      "Processing image:  3 / 13\n",
      "Image path:  C:\\Users\\Alibaba\\Desktop\\deep_learning_project\\deep_learning_project\\R-CNN-test\\original_data\\images\\309e7aaf-frame500.jpg\n",
      "Total proposed objects:  4923\n",
      "----------------------------------------------------------------------------------------------------\n",
      "Processing image:  4 / 13\n",
      "Image path:  C:\\Users\\Alibaba\\Desktop\\deep_learning_project\\deep_learning_project\\R-CNN-test\\original_data\\images\\402afb4b-frame2500.jpg\n",
      "Total proposed objects:  5090\n",
      "----------------------------------------------------------------------------------------------------\n",
      "Processing image:  5 / 13\n",
      "Image path:  C:\\Users\\Alibaba\\Desktop\\deep_learning_project\\deep_learning_project\\R-CNN-test\\original_data\\images\\475a427e-frame6500.jpg\n",
      "Total proposed objects:  4879\n",
      "----------------------------------------------------------------------------------------------------\n",
      "Processing image:  6 / 13\n",
      "Image path:  C:\\Users\\Alibaba\\Desktop\\deep_learning_project\\deep_learning_project\\R-CNN-test\\original_data\\images\\4777615f-frame4500.jpg\n",
      "Total proposed objects:  5335\n",
      "----------------------------------------------------------------------------------------------------\n",
      "Processing image:  7 / 13\n",
      "Image path:  C:\\Users\\Alibaba\\Desktop\\deep_learning_project\\deep_learning_project\\R-CNN-test\\original_data\\images\\57b76ee4-frame1000.jpg\n",
      "Total proposed objects:  4827\n",
      "----------------------------------------------------------------------------------------------------\n",
      "Processing image:  8 / 13\n",
      "Image path:  C:\\Users\\Alibaba\\Desktop\\deep_learning_project\\deep_learning_project\\R-CNN-test\\original_data\\images\\69739eb2-frame3000.jpg\n",
      "Total proposed objects:  5133\n",
      "----------------------------------------------------------------------------------------------------\n",
      "Processing image:  9 / 13\n",
      "Image path:  C:\\Users\\Alibaba\\Desktop\\deep_learning_project\\deep_learning_project\\R-CNN-test\\original_data\\images\\9a03617f-frame4000.jpg\n",
      "Total proposed objects:  4987\n",
      "----------------------------------------------------------------------------------------------------\n",
      "Processing image:  10 / 13\n",
      "Image path:  C:\\Users\\Alibaba\\Desktop\\deep_learning_project\\deep_learning_project\\R-CNN-test\\original_data\\images\\af6b0c28-frame5000.jpg\n",
      "Total proposed objects:  4868\n",
      "----------------------------------------------------------------------------------------------------\n",
      "Processing image:  11 / 13\n",
      "Image path:  C:\\Users\\Alibaba\\Desktop\\deep_learning_project\\deep_learning_project\\R-CNN-test\\original_data\\images\\b8fb9ac4-frame2000.jpg\n",
      "Total proposed objects:  4891\n",
      "----------------------------------------------------------------------------------------------------\n",
      "Processing image:  12 / 13\n",
      "Image path:  C:\\Users\\Alibaba\\Desktop\\deep_learning_project\\deep_learning_project\\R-CNN-test\\original_data\\images\\c558f15f-frame6000.jpg\n",
      "Total proposed objects:  5415\n",
      "----------------------------------------------------------------------------------------------------\n",
      "Processing image:  13 / 13\n",
      "Image path:  C:\\Users\\Alibaba\\Desktop\\deep_learning_project\\deep_learning_project\\R-CNN-test\\original_data\\images\\d12aad7d-frame5500.jpg\n",
      "Total proposed objects:  4721\n",
      "----------------------------------------------------------------------------------------------------\n"
     ]
    }
   ],
   "source": [
    "totalPositive = 0\n",
    "totalNegative = 0\n",
    "\n",
    "for i, image_name in enumerate(os.listdir(original_images_path)[:]):\n",
    "    print(\"Processing image: \", i + 1, \"/\", images_to_process)\n",
    "    image_path = os.path.join(original_images_path, image_name)\n",
    "    label_path = os.path.join(original_labels_path, image_name.split(\".\")[0] + \".txt\")\n",
    "    print(\"Image path: \", image_path)\n",
    "    image = load_image(image_path)\n",
    "    labels = load_label(label_path)\n",
    "    rects = selective_search(image)\n",
    "    print(\"Total proposed objects: \", len(rects))\n",
    "    # print(f\"Labels: {labels}\")\n",
    "\n",
    "    # draw_image_with_box(image, (labels[\"0\"][\"x_min\"], labels[\"0\"][\"y_min\"], labels[\"0\"][\"x_max\"], labels[\"0\"][\"y_max\"]))\n",
    "    positive_ROI = 0\n",
    "    negative_ROI = 0\n",
    "\n",
    "    for rect in rects[:max_proposals]:\n",
    "        x, y, w, h = rect\n",
    "        x_min = x\n",
    "        y_min = y\n",
    "        x_max = x + w\n",
    "        y_max = y + h\n",
    "        proposed_box = [x_min, y_min, x_max, y_max]\n",
    "        if x < 0 or y < 0 or w < 0 or h < 0:\n",
    "            continue\n",
    "        if x + w > image.shape[1] or y + h > image.shape[0]:\n",
    "            continue\n",
    "        pos_roi, neg_roi = check_all_rectangles(proposed_box, labels, image, positive_ROI, negative_ROI)\n",
    "        positive_ROI += pos_roi\n",
    "        negative_ROI += neg_roi\n",
    "\n",
    "    print(\"-\"*100)"
   ],
   "metadata": {
    "collapsed": false,
    "pycharm": {
     "name": "#%%\n"
    }
   }
  },
  {
   "cell_type": "code",
   "execution_count": 272,
   "outputs": [
    {
     "name": "stdout",
     "output_type": "stream",
     "text": [
      "Total positive samples: 14\n",
      "Total negative samples: 130\n"
     ]
    }
   ],
   "source": [
    "print(f\"Total positive samples: {totalPositive}\")\n",
    "print(f\"Total negative samples: {totalNegative}\")"
   ],
   "metadata": {
    "collapsed": false,
    "pycharm": {
     "name": "#%%\n"
    }
   }
  }
 ],
 "metadata": {
  "kernelspec": {
   "display_name": "Python 3",
   "language": "python",
   "name": "python3"
  },
  "language_info": {
   "codemirror_mode": {
    "name": "ipython",
    "version": 2
   },
   "file_extension": ".py",
   "mimetype": "text/x-python",
   "name": "python",
   "nbconvert_exporter": "python",
   "pygments_lexer": "ipython2",
   "version": "2.7.6"
  }
 },
 "nbformat": 4,
 "nbformat_minor": 0
}