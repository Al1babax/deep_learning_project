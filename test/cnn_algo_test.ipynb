{
 "cells": [
  {
   "cell_type": "code",
   "execution_count": 1,
   "outputs": [
    {
     "name": "stderr",
     "output_type": "stream",
     "text": [
      "C:\\Users\\Alibaba\\AppData\\Local\\Programs\\Python\\Python39\\lib\\site-packages\\requests\\__init__.py:102: RequestsDependencyWarning: urllib3 (1.26.9) or chardet (5.0.0)/charset_normalizer (2.0.12) doesn't match a supported version!\n",
      "  warnings.warn(\"urllib3 ({}) or chardet ({})/charset_normalizer ({}) doesn't match a supported \"\n"
     ]
    }
   ],
   "source": [
    "import tensorflow as tf\n",
    "import numpy as np\n",
    "import matplotlib.pyplot as plt\n",
    "import pandas as pd\n",
    "import seaborn as sns\n",
    "from sklearn.model_selection import train_test_split\n",
    "from sklearn.preprocessing import MinMaxScaler\n",
    "from keras.models import Sequential\n",
    "from keras.layers import Dense, Flatten, Conv2D, MaxPool2D, Dropout\n",
    "from keras.losses import sparse_categorical_crossentropy\n",
    "from keras.optimizers import Adam\n",
    "import cv2\n",
    "from utils.video_decoding import VideoDecoder\n",
    "import time\n",
    "import ast"
   ],
   "metadata": {
    "collapsed": false,
    "pycharm": {
     "name": "#%%\n"
    }
   }
  },
  {
   "cell_type": "code",
   "execution_count": 2,
   "outputs": [],
   "source": [
    "video_data = VideoDecoder(\"data_gather/cctv_data/output_12_31_11.mp4\")"
   ],
   "metadata": {
    "collapsed": false,
    "pycharm": {
     "name": "#%%\n"
    }
   }
  },
  {
   "cell_type": "code",
   "execution_count": 3,
   "outputs": [],
   "source": [
    "def get_label(frame_number):\n",
    "    \"\"\"\n",
    "    Get the label for the frame number\n",
    "\n",
    "    Parameters:\n",
    "         frame_number: int\n",
    "    Return:\n",
    "        in format [tuple(x, y),....]\n",
    "    \"\"\"\n",
    "    with open(\"test/output_12_31_11.mp4_coordinates.txt\", \"r\") as f:\n",
    "        for line in f:\n",
    "            if line.split(\":\")[0] == str(frame_number):\n",
    "                values = ast.literal_eval(line.split(\":\")[1].rstrip().lstrip())\n",
    "                values = [[x[0], x[1]] for x in values]\n",
    "                return np.array(values)"
   ],
   "metadata": {
    "collapsed": false,
    "pycharm": {
     "name": "#%%\n"
    }
   }
  },
  {
   "cell_type": "code",
   "execution_count": 4,
   "outputs": [],
   "source": [
    "def generate_next_frames(amount_of_frames):\n",
    "    frames = []\n",
    "\n",
    "    # looping to get 10 frames with label that is not empty --> meaning frame had 0 cars in it\n",
    "    while True:\n",
    "        frame = video_data.current_frame\n",
    "\n",
    "        # if frame was empty, then we want to skip it\n",
    "        if frame is None:\n",
    "            continue\n",
    "\n",
    "        # frame = cv2.resize(frame, (224, 224))\n",
    "        frame = cv2.cvtColor(frame, cv2.COLOR_BGR2GRAY)\n",
    "\n",
    "        # getting label for current frame\n",
    "        labels = np.array(get_label(video_data.current_frame_number))\n",
    "        # checking here that current frame had at least 1 car\n",
    "        # print(labels.shape)\n",
    "        if labels.dtype == object or labels.dtype == np.float64 or labels.shape != (1, 2):\n",
    "            video_data.next_frame()\n",
    "            continue\n",
    "\n",
    "        # combining frame and label data\n",
    "        combined_data = np.array([labels[0], frame], dtype=object)\n",
    "        # appending to frames\n",
    "        frames.append(combined_data)\n",
    "\n",
    "        if len(frames) == amount_of_frames:\n",
    "            break\n",
    "\n",
    "        video_data.next_frame()\n",
    "\n",
    "    return np.array(frames)"
   ],
   "metadata": {
    "collapsed": false,
    "pycharm": {
     "name": "#%%\n"
    }
   }
  },
  {
   "cell_type": "code",
   "execution_count": 5,
   "outputs": [
    {
     "data": {
      "text/plain": "array([[195, 195],\n       [ 15, 315]])"
     },
     "execution_count": 5,
     "metadata": {},
     "output_type": "execute_result"
    }
   ],
   "source": [
    "get_label(350)"
   ],
   "metadata": {
    "collapsed": false,
    "pycharm": {
     "name": "#%%\n"
    }
   }
  },
  {
   "cell_type": "code",
   "execution_count": 6,
   "outputs": [],
   "source": [
    "data = generate_next_frames(100)"
   ],
   "metadata": {
    "collapsed": false,
    "pycharm": {
     "name": "#%%\n"
    }
   }
  },
  {
   "cell_type": "code",
   "execution_count": 6,
   "outputs": [],
   "source": [],
   "metadata": {
    "collapsed": false,
    "pycharm": {
     "name": "#%%\n"
    }
   }
  },
  {
   "cell_type": "code",
   "execution_count": 7,
   "outputs": [
    {
     "data": {
      "text/plain": "100"
     },
     "execution_count": 7,
     "metadata": {},
     "output_type": "execute_result"
    }
   ],
   "source": [
    "len(data)"
   ],
   "metadata": {
    "collapsed": false,
    "pycharm": {
     "name": "#%%\n"
    }
   }
  },
  {
   "cell_type": "code",
   "execution_count": 8,
   "outputs": [
    {
     "name": "stdout",
     "output_type": "stream",
     "text": [
      "(480, 640) [285 165]\n",
      "(480, 640) [285 165]\n",
      "(480, 640) [285 165]\n",
      "(480, 640) [255 165]\n",
      "(480, 640) [285 165]\n",
      "(480, 640) [285 165]\n",
      "(480, 640) [285 165]\n",
      "(480, 640) [255 165]\n",
      "(480, 640) [255 165]\n",
      "(480, 640) [165  15]\n",
      "(480, 640) [255 165]\n",
      "(480, 640) [255 165]\n",
      "(480, 640) [255 165]\n",
      "(480, 640) [285 165]\n",
      "(480, 640) [255 165]\n",
      "(480, 640) [315 165]\n",
      "(480, 640) [255 165]\n",
      "(480, 640) [255 165]\n",
      "(480, 640) [255 165]\n",
      "(480, 640) [255 165]\n",
      "(480, 640) [255 165]\n",
      "(480, 640) [255 165]\n",
      "(480, 640) [255 165]\n",
      "(480, 640) [255 165]\n",
      "(480, 640) [255 165]\n",
      "(480, 640) [255 165]\n",
      "(480, 640) [315 165]\n",
      "(480, 640) [255 165]\n",
      "(480, 640) [255 165]\n",
      "(480, 640) [255 165]\n",
      "(480, 640) [255 165]\n",
      "(480, 640) [255 165]\n",
      "(480, 640) [255 165]\n",
      "(480, 640) [255 165]\n",
      "(480, 640) [255 165]\n",
      "(480, 640) [255 165]\n",
      "(480, 640) [255 165]\n",
      "(480, 640) [255 165]\n",
      "(480, 640) [255 165]\n",
      "(480, 640) [255 165]\n",
      "(480, 640) [255 165]\n",
      "(480, 640) [255 165]\n",
      "(480, 640) [255 165]\n",
      "(480, 640) [255 165]\n",
      "(480, 640) [255 165]\n",
      "(480, 640) [255 165]\n",
      "(480, 640) [255 165]\n",
      "(480, 640) [285 165]\n",
      "(480, 640) [255 195]\n",
      "(480, 640) [255 165]\n",
      "(480, 640) [315 165]\n",
      "(480, 640) [255 165]\n",
      "(480, 640) [255 165]\n",
      "(480, 640) [255 165]\n",
      "(480, 640) [315 165]\n",
      "(480, 640) [255 165]\n",
      "(480, 640) [255 165]\n",
      "(480, 640) [315 165]\n",
      "(480, 640) [255 165]\n",
      "(480, 640) [255 165]\n",
      "(480, 640) [255 165]\n",
      "(480, 640) [255 195]\n",
      "(480, 640) [255 165]\n",
      "(480, 640) [255 165]\n",
      "(480, 640) [255 165]\n",
      "(480, 640) [255 195]\n",
      "(480, 640) [255 165]\n",
      "(480, 640) [285 165]\n",
      "(480, 640) [285 165]\n",
      "(480, 640) [255 165]\n",
      "(480, 640) [255 195]\n",
      "(480, 640) [255 165]\n",
      "(480, 640) [255 165]\n",
      "(480, 640) [255 165]\n",
      "(480, 640) [165  15]\n",
      "(480, 640) [285 165]\n",
      "(480, 640) [255 165]\n",
      "(480, 640) [285 165]\n",
      "(480, 640) [255 195]\n",
      "(480, 640) [255 165]\n",
      "(480, 640) [255 165]\n",
      "(480, 640) [315 165]\n",
      "(480, 640) [285 165]\n",
      "(480, 640) [255 195]\n",
      "(480, 640) [255 165]\n",
      "(480, 640) [285 165]\n",
      "(480, 640) [255 165]\n",
      "(480, 640) [285 165]\n",
      "(480, 640) [255 195]\n",
      "(480, 640) [255 195]\n",
      "(480, 640) [255 195]\n",
      "(480, 640) [255 195]\n",
      "(480, 640) [285 165]\n",
      "(480, 640) [285 165]\n",
      "(480, 640) [225 195]\n",
      "(480, 640) [225 195]\n",
      "(480, 640) [225 195]\n",
      "(480, 640) [255 165]\n",
      "(480, 640) [225 195]\n",
      "(480, 640) [255 165]\n"
     ]
    }
   ],
   "source": [
    "data_dict = {}\n",
    "for i, x in enumerate(data):\n",
    "    data_dict[i] = {\n",
    "        \"label\": x[0],\n",
    "        \"frame\": x[1]\n",
    "    }\n",
    "    print(x[1].shape, end=\" \")\n",
    "    print(x[0])"
   ],
   "metadata": {
    "collapsed": false,
    "pycharm": {
     "name": "#%%\n"
    }
   }
  },
  {
   "cell_type": "code",
   "execution_count": 9,
   "outputs": [
    {
     "data": {
      "text/plain": "{'label': array([285, 165]),\n 'frame': array([[ 0,  0,  0, ...,  0,  0,  0],\n        [ 1,  1,  4, ...,  0,  0,  0],\n        [ 2,  1,  0, ...,  0,  0,  0],\n        ...,\n        [23, 24, 24, ..., 45, 36, 38],\n        [24, 25, 25, ..., 51, 50, 52],\n        [24, 25, 25, ..., 50, 50, 53]], dtype=uint8)}"
     },
     "execution_count": 9,
     "metadata": {},
     "output_type": "execute_result"
    }
   ],
   "source": [
    "data_dict[0]"
   ],
   "metadata": {
    "collapsed": false,
    "pycharm": {
     "name": "#%%\n"
    }
   }
  },
  {
   "cell_type": "code",
   "execution_count": 10,
   "outputs": [],
   "source": [
    "for k, v in data_dict.items():\n",
    "    data_dict[k][\"label_number\"] = (data_dict[k][\"label\"][0] - 1) * 640 + data_dict[k][\"label\"][1]"
   ],
   "metadata": {
    "collapsed": false,
    "pycharm": {
     "name": "#%%\n"
    }
   }
  },
  {
   "cell_type": "code",
   "execution_count": 11,
   "outputs": [
    {
     "data": {
      "text/plain": "{'label': array([285, 165]),\n 'frame': array([[ 0,  0,  0, ...,  0,  0,  0],\n        [ 1,  1,  4, ...,  0,  0,  0],\n        [ 2,  1,  0, ...,  0,  0,  0],\n        ...,\n        [23, 24, 24, ..., 45, 36, 38],\n        [24, 25, 25, ..., 51, 50, 52],\n        [24, 25, 25, ..., 50, 50, 53]], dtype=uint8),\n 'label_number': 181925}"
     },
     "execution_count": 11,
     "metadata": {},
     "output_type": "execute_result"
    }
   ],
   "source": [
    "data_dict[0]"
   ],
   "metadata": {
    "collapsed": false,
    "pycharm": {
     "name": "#%%\n"
    }
   }
  },
  {
   "cell_type": "code",
   "execution_count": 12,
   "outputs": [],
   "source": [
    "new_data = []\n",
    "for k, v in data_dict.items():\n",
    "    new_data.append([data_dict[k][\"label_number\"], data_dict[k][\"frame\"]])"
   ],
   "metadata": {
    "collapsed": false,
    "pycharm": {
     "name": "#%%\n"
    }
   }
  },
  {
   "cell_type": "code",
   "execution_count": 13,
   "outputs": [],
   "source": [
    "X = [x[1] for x in new_data]\n",
    "y = [x[0] for x in new_data]"
   ],
   "metadata": {
    "collapsed": false,
    "pycharm": {
     "name": "#%%\n"
    }
   }
  },
  {
   "cell_type": "code",
   "execution_count": 14,
   "outputs": [],
   "source": [
    "X = np.array(X).astype(np.float32)\n",
    "y = np.array(y)"
   ],
   "metadata": {
    "collapsed": false,
    "pycharm": {
     "name": "#%%\n"
    }
   }
  },
  {
   "cell_type": "code",
   "execution_count": 15,
   "outputs": [],
   "source": [
    "X = X/255\n",
    "y = y/307200"
   ],
   "metadata": {
    "collapsed": false,
    "pycharm": {
     "name": "#%%\n"
    }
   }
  },
  {
   "cell_type": "code",
   "execution_count": 16,
   "outputs": [],
   "source": [
    "# y_list = [[data[0][0], data[0][1]] for data in y]"
   ],
   "metadata": {
    "collapsed": false,
    "pycharm": {
     "name": "#%%\n"
    }
   }
  },
  {
   "cell_type": "code",
   "execution_count": 17,
   "outputs": [],
   "source": [
    "# y_list"
   ],
   "metadata": {
    "collapsed": false,
    "pycharm": {
     "name": "#%%\n"
    }
   }
  },
  {
   "cell_type": "code",
   "execution_count": 18,
   "outputs": [],
   "source": [
    "from sklearn.model_selection import train_test_split\n",
    "X_train, X_test, y_train, y_test = train_test_split(X, y, test_size=0.2)"
   ],
   "metadata": {
    "collapsed": false,
    "pycharm": {
     "name": "#%%\n"
    }
   }
  },
  {
   "cell_type": "code",
   "execution_count": 19,
   "outputs": [],
   "source": [
    "X_train = np.array(X_train)\n",
    "X_test = np.array(X_test)\n",
    "y_train = np.array(y_train)\n",
    "y_test = np.array(y_test)"
   ],
   "metadata": {
    "collapsed": false,
    "pycharm": {
     "name": "#%%\n"
    }
   }
  },
  {
   "cell_type": "code",
   "execution_count": 20,
   "outputs": [],
   "source": [
    "validate_data = (X_test[:10], y_test[:10])"
   ],
   "metadata": {
    "collapsed": false,
    "pycharm": {
     "name": "#%%\n"
    }
   }
  },
  {
   "cell_type": "code",
   "execution_count": 21,
   "outputs": [
    {
     "name": "stdout",
     "output_type": "stream",
     "text": [
      "0.5922037760416666\n",
      "<class 'numpy.float64'>\n",
      "0.5297037760416666\n",
      "<class 'numpy.float64'>\n",
      "0.5297037760416666\n",
      "<class 'numpy.float64'>\n",
      "0.5298014322916667\n",
      "<class 'numpy.float64'>\n",
      "0.5297037760416666\n",
      "<class 'numpy.float64'>\n",
      "0.46730143229166665\n",
      "<class 'numpy.float64'>\n",
      "0.5297037760416666\n",
      "<class 'numpy.float64'>\n",
      "0.5298014322916667\n",
      "<class 'numpy.float64'>\n",
      "0.5922037760416666\n",
      "<class 'numpy.float64'>\n",
      "0.5298014322916667\n",
      "<class 'numpy.float64'>\n",
      "0.46730143229166665\n",
      "<class 'numpy.float64'>\n",
      "0.5297037760416666\n",
      "<class 'numpy.float64'>\n",
      "0.5298014322916667\n",
      "<class 'numpy.float64'>\n",
      "0.5297037760416666\n",
      "<class 'numpy.float64'>\n",
      "0.5298014322916667\n",
      "<class 'numpy.float64'>\n",
      "0.5297037760416666\n",
      "<class 'numpy.float64'>\n",
      "0.5297037760416666\n",
      "<class 'numpy.float64'>\n",
      "0.5297037760416666\n",
      "<class 'numpy.float64'>\n",
      "0.5297037760416666\n",
      "<class 'numpy.float64'>\n",
      "0.5297037760416666\n",
      "<class 'numpy.float64'>\n",
      "0.5297037760416666\n",
      "<class 'numpy.float64'>\n",
      "0.46730143229166665\n",
      "<class 'numpy.float64'>\n",
      "0.5297037760416666\n",
      "<class 'numpy.float64'>\n",
      "0.5297037760416666\n",
      "<class 'numpy.float64'>\n",
      "0.5922037760416666\n",
      "<class 'numpy.float64'>\n",
      "0.5297037760416666\n",
      "<class 'numpy.float64'>\n",
      "0.5922037760416666\n",
      "<class 'numpy.float64'>\n",
      "0.3417154947916667\n",
      "<class 'numpy.float64'>\n",
      "0.5297037760416666\n",
      "<class 'numpy.float64'>\n",
      "0.5297037760416666\n",
      "<class 'numpy.float64'>\n",
      "0.5297037760416666\n",
      "<class 'numpy.float64'>\n",
      "0.5297037760416666\n",
      "<class 'numpy.float64'>\n",
      "0.5298014322916667\n",
      "<class 'numpy.float64'>\n",
      "0.5298014322916667\n",
      "<class 'numpy.float64'>\n",
      "0.5297037760416666\n",
      "<class 'numpy.float64'>\n",
      "0.5922037760416666\n",
      "<class 'numpy.float64'>\n",
      "0.5922037760416666\n",
      "<class 'numpy.float64'>\n",
      "0.5922037760416666\n",
      "<class 'numpy.float64'>\n",
      "0.5297037760416666\n",
      "<class 'numpy.float64'>\n",
      "0.5297037760416666\n",
      "<class 'numpy.float64'>\n",
      "0.5298014322916667\n",
      "<class 'numpy.float64'>\n",
      "0.5297037760416666\n",
      "<class 'numpy.float64'>\n",
      "0.5297037760416666\n",
      "<class 'numpy.float64'>\n",
      "0.6547037760416666\n",
      "<class 'numpy.float64'>\n",
      "0.5297037760416666\n",
      "<class 'numpy.float64'>\n",
      "0.5297037760416666\n",
      "<class 'numpy.float64'>\n",
      "0.5922037760416666\n",
      "<class 'numpy.float64'>\n",
      "0.5297037760416666\n",
      "<class 'numpy.float64'>\n",
      "0.5297037760416666\n",
      "<class 'numpy.float64'>\n",
      "0.5297037760416666\n",
      "<class 'numpy.float64'>\n",
      "0.5297037760416666\n",
      "<class 'numpy.float64'>\n",
      "0.5297037760416666\n",
      "<class 'numpy.float64'>\n",
      "0.5297037760416666\n",
      "<class 'numpy.float64'>\n",
      "0.6547037760416666\n",
      "<class 'numpy.float64'>\n",
      "0.5297037760416666\n",
      "<class 'numpy.float64'>\n",
      "0.5297037760416666\n",
      "<class 'numpy.float64'>\n",
      "0.5297037760416666\n",
      "<class 'numpy.float64'>\n",
      "0.5297037760416666\n",
      "<class 'numpy.float64'>\n",
      "0.5297037760416666\n",
      "<class 'numpy.float64'>\n",
      "0.6547037760416666\n",
      "<class 'numpy.float64'>\n",
      "0.5297037760416666\n",
      "<class 'numpy.float64'>\n",
      "0.5922037760416666\n",
      "<class 'numpy.float64'>\n",
      "0.5297037760416666\n",
      "<class 'numpy.float64'>\n",
      "0.5297037760416666\n",
      "<class 'numpy.float64'>\n",
      "0.5297037760416666\n",
      "<class 'numpy.float64'>\n",
      "0.5297037760416666\n",
      "<class 'numpy.float64'>\n",
      "0.46730143229166665\n",
      "<class 'numpy.float64'>\n",
      "0.5298014322916667\n",
      "<class 'numpy.float64'>\n",
      "0.5297037760416666\n",
      "<class 'numpy.float64'>\n",
      "0.5297037760416666\n",
      "<class 'numpy.float64'>\n",
      "0.5297037760416666\n",
      "<class 'numpy.float64'>\n",
      "0.5297037760416666\n",
      "<class 'numpy.float64'>\n",
      "0.5297037760416666\n",
      "<class 'numpy.float64'>\n",
      "0.5297037760416666\n",
      "<class 'numpy.float64'>\n",
      "0.5297037760416666\n",
      "<class 'numpy.float64'>\n",
      "0.6547037760416666\n",
      "<class 'numpy.float64'>\n",
      "0.5297037760416666\n",
      "<class 'numpy.float64'>\n",
      "0.5297037760416666\n",
      "<class 'numpy.float64'>\n",
      "0.5297037760416666\n",
      "<class 'numpy.float64'>\n",
      "0.5297037760416666\n",
      "<class 'numpy.float64'>\n"
     ]
    }
   ],
   "source": [
    "for x in y_train:\n",
    "    print(x)\n",
    "    print(type(x))"
   ],
   "metadata": {
    "collapsed": false,
    "pycharm": {
     "name": "#%%\n"
    }
   }
  },
  {
   "cell_type": "code",
   "execution_count": 22,
   "outputs": [
    {
     "data": {
      "text/plain": "(80, 480, 640)"
     },
     "execution_count": 22,
     "metadata": {},
     "output_type": "execute_result"
    }
   ],
   "source": [
    "X_train.shape"
   ],
   "metadata": {
    "collapsed": false,
    "pycharm": {
     "name": "#%%\n"
    }
   }
  },
  {
   "cell_type": "code",
   "execution_count": 23,
   "outputs": [
    {
     "data": {
      "text/plain": "(80,)"
     },
     "execution_count": 23,
     "metadata": {},
     "output_type": "execute_result"
    }
   ],
   "source": [
    "y_train.shape"
   ],
   "metadata": {
    "collapsed": false,
    "pycharm": {
     "name": "#%%\n"
    }
   }
  },
  {
   "cell_type": "code",
   "execution_count": 24,
   "outputs": [
    {
     "data": {
      "text/plain": "array([0.59220378, 0.52970378, 0.52970378, 0.52980143, 0.52970378,\n       0.46730143, 0.52970378, 0.52980143, 0.59220378, 0.52980143,\n       0.46730143, 0.52970378, 0.52980143, 0.52970378, 0.52980143,\n       0.52970378, 0.52970378, 0.52970378, 0.52970378, 0.52970378,\n       0.52970378, 0.46730143, 0.52970378, 0.52970378, 0.59220378,\n       0.52970378, 0.59220378, 0.34171549, 0.52970378, 0.52970378,\n       0.52970378, 0.52970378, 0.52980143, 0.52980143, 0.52970378,\n       0.59220378, 0.59220378, 0.59220378, 0.52970378, 0.52970378,\n       0.52980143, 0.52970378, 0.52970378, 0.65470378, 0.52970378,\n       0.52970378, 0.59220378, 0.52970378, 0.52970378, 0.52970378,\n       0.52970378, 0.52970378, 0.52970378, 0.65470378, 0.52970378,\n       0.52970378, 0.52970378, 0.52970378, 0.52970378, 0.65470378,\n       0.52970378, 0.59220378, 0.52970378, 0.52970378, 0.52970378,\n       0.52970378, 0.46730143, 0.52980143, 0.52970378, 0.52970378,\n       0.52970378, 0.52970378, 0.52970378, 0.52970378, 0.52970378,\n       0.65470378, 0.52970378, 0.52970378, 0.52970378, 0.52970378])"
     },
     "execution_count": 24,
     "metadata": {},
     "output_type": "execute_result"
    }
   ],
   "source": [
    "y_train"
   ],
   "metadata": {
    "collapsed": false,
    "pycharm": {
     "name": "#%%\n"
    }
   }
  },
  {
   "cell_type": "markdown",
   "source": [
    "# How to train the model\n",
    "Somehow the problem needs to be turned into classification problem --> maybe give the model max error of 5 pixels from guessing the car location and labeling 0 or 1 if the model guessed all the cars within 5 pixels of the actual location or not."
   ],
   "metadata": {
    "collapsed": false,
    "pycharm": {
     "name": "#%% md\n"
    }
   }
  },
  {
   "cell_type": "code",
   "execution_count": 25,
   "outputs": [],
   "source": [
    "model = Sequential()\n",
    "model.add(Conv2D(32, kernel_size=(3, 3), activation='relu', input_shape=(480, 640, 1), padding='same'))\n",
    "model.add(Conv2D(32, kernel_size=(3, 3), activation='relu', padding='same'))\n",
    "model.add(MaxPool2D(pool_size=(2, 2), strides=(2, 2)))\n",
    "model.add(Dropout(0.25))\n",
    "model.add(Conv2D(64, kernel_size=(3, 3), activation='relu', padding='same'))\n",
    "model.add(Conv2D(64, kernel_size=(3, 3), activation='relu', padding='same'))\n",
    "model.add(MaxPool2D(pool_size=(2, 2), strides=(2, 2)))\n",
    "model.add(Dropout(0.25))\n",
    "model.add(Conv2D(128, kernel_size=(3, 3), activation='relu', padding='same'))\n",
    "model.add(Conv2D(128, kernel_size=(3, 3), activation='relu', padding='same'))\n",
    "model.add(MaxPool2D(pool_size=(2, 2), strides=(2, 2)))\n",
    "model.add(Dropout(0.25))\n",
    "model.add(Flatten())\n",
    "model.add(Dense(512, activation='relu'))\n",
    "model.add(Dropout(0.5))\n",
    "model.add(Dense(2, activation='softmax'))"
   ],
   "metadata": {
    "collapsed": false,
    "pycharm": {
     "name": "#%%\n"
    }
   }
  },
  {
   "cell_type": "code",
   "execution_count": 26,
   "outputs": [
    {
     "name": "stdout",
     "output_type": "stream",
     "text": [
      "Model: \"sequential\"\n",
      "_________________________________________________________________\n",
      " Layer (type)                Output Shape              Param #   \n",
      "=================================================================\n",
      " conv2d (Conv2D)             (None, 480, 640, 32)      320       \n",
      "                                                                 \n",
      " conv2d_1 (Conv2D)           (None, 480, 640, 32)      9248      \n",
      "                                                                 \n",
      " max_pooling2d (MaxPooling2D  (None, 240, 320, 32)     0         \n",
      " )                                                               \n",
      "                                                                 \n",
      " dropout (Dropout)           (None, 240, 320, 32)      0         \n",
      "                                                                 \n",
      " conv2d_2 (Conv2D)           (None, 240, 320, 64)      18496     \n",
      "                                                                 \n",
      " conv2d_3 (Conv2D)           (None, 240, 320, 64)      36928     \n",
      "                                                                 \n",
      " max_pooling2d_1 (MaxPooling  (None, 120, 160, 64)     0         \n",
      " 2D)                                                             \n",
      "                                                                 \n",
      " dropout_1 (Dropout)         (None, 120, 160, 64)      0         \n",
      "                                                                 \n",
      " conv2d_4 (Conv2D)           (None, 120, 160, 128)     73856     \n",
      "                                                                 \n",
      " conv2d_5 (Conv2D)           (None, 120, 160, 128)     147584    \n",
      "                                                                 \n",
      " max_pooling2d_2 (MaxPooling  (None, 60, 80, 128)      0         \n",
      " 2D)                                                             \n",
      "                                                                 \n",
      " dropout_2 (Dropout)         (None, 60, 80, 128)       0         \n",
      "                                                                 \n",
      " flatten (Flatten)           (None, 614400)            0         \n",
      "                                                                 \n",
      " dense (Dense)               (None, 512)               314573312 \n",
      "                                                                 \n",
      " dropout_3 (Dropout)         (None, 512)               0         \n",
      "                                                                 \n",
      " dense_1 (Dense)             (None, 2)                 1026      \n",
      "                                                                 \n",
      "=================================================================\n",
      "Total params: 314,860,770\n",
      "Trainable params: 314,860,770\n",
      "Non-trainable params: 0\n",
      "_________________________________________________________________\n"
     ]
    }
   ],
   "source": [
    "model.summary()"
   ],
   "metadata": {
    "collapsed": false,
    "pycharm": {
     "name": "#%%\n"
    }
   }
  },
  {
   "cell_type": "code",
   "execution_count": 27,
   "outputs": [
    {
     "name": "stderr",
     "output_type": "stream",
     "text": [
      "C:\\Users\\Alibaba\\AppData\\Local\\Programs\\Python\\Python39\\lib\\site-packages\\keras\\optimizers\\optimizer_v2\\adam.py:114: UserWarning: The `lr` argument is deprecated, use `learning_rate` instead.\n",
      "  super().__init__(name, **kwargs)\n"
     ]
    }
   ],
   "source": [
    "model.compile(loss='sparse_categorical_crossentropy', optimizer=Adam(lr=0.001), metrics=['accuracy'])"
   ],
   "metadata": {
    "collapsed": false,
    "pycharm": {
     "name": "#%%\n"
    }
   }
  },
  {
   "cell_type": "code",
   "execution_count": 28,
   "outputs": [
    {
     "name": "stdout",
     "output_type": "stream",
     "text": [
      "<class 'numpy.ndarray'>\n",
      "<class 'numpy.ndarray'>\n"
     ]
    }
   ],
   "source": [
    "print(type(X_train))\n",
    "print(type(y_train))"
   ],
   "metadata": {
    "collapsed": false,
    "pycharm": {
     "name": "#%%\n"
    }
   }
  },
  {
   "cell_type": "code",
   "execution_count": 29,
   "outputs": [
    {
     "name": "stdout",
     "output_type": "stream",
     "text": [
      "Epoch 1/10\n",
      "16/16 [==============================] - 6s 150ms/step - loss: 0.0428 - accuracy: 0.0000e+00 - val_loss: 0.0000e+00 - val_accuracy: 0.0000e+00\n",
      "Epoch 2/10\n",
      "16/16 [==============================] - 2s 141ms/step - loss: 0.0000e+00 - accuracy: 0.0000e+00 - val_loss: 0.0000e+00 - val_accuracy: 0.0000e+00\n",
      "Epoch 3/10\n",
      "16/16 [==============================] - 2s 141ms/step - loss: 0.0000e+00 - accuracy: 0.0000e+00 - val_loss: 0.0000e+00 - val_accuracy: 0.0000e+00\n",
      "Epoch 4/10\n",
      "16/16 [==============================] - 2s 140ms/step - loss: 0.0000e+00 - accuracy: 0.0000e+00 - val_loss: 0.0000e+00 - val_accuracy: 0.0000e+00\n",
      "Epoch 5/10\n",
      "16/16 [==============================] - 2s 141ms/step - loss: 0.0000e+00 - accuracy: 0.0000e+00 - val_loss: 0.0000e+00 - val_accuracy: 0.0000e+00\n",
      "Epoch 6/10\n",
      "16/16 [==============================] - 2s 141ms/step - loss: 0.0000e+00 - accuracy: 0.0000e+00 - val_loss: 0.0000e+00 - val_accuracy: 0.0000e+00\n",
      "Epoch 7/10\n",
      "16/16 [==============================] - 2s 141ms/step - loss: 0.0000e+00 - accuracy: 0.0000e+00 - val_loss: 0.0000e+00 - val_accuracy: 0.0000e+00\n",
      "Epoch 8/10\n",
      "16/16 [==============================] - 2s 140ms/step - loss: 0.0000e+00 - accuracy: 0.0000e+00 - val_loss: 0.0000e+00 - val_accuracy: 0.0000e+00\n",
      "Epoch 9/10\n",
      "16/16 [==============================] - 2s 141ms/step - loss: 0.0000e+00 - accuracy: 0.0000e+00 - val_loss: 0.0000e+00 - val_accuracy: 0.0000e+00\n",
      "Epoch 10/10\n",
      "16/16 [==============================] - 2s 141ms/step - loss: 0.0000e+00 - accuracy: 0.0000e+00 - val_loss: 0.0000e+00 - val_accuracy: 0.0000e+00\n"
     ]
    }
   ],
   "source": [
    "history = model.fit(X_train, y_train, batch_size=5, epochs=10, verbose=1, validation_data=validate_data, shuffle=True)"
   ],
   "metadata": {
    "collapsed": false,
    "pycharm": {
     "name": "#%%\n"
    }
   }
  },
  {
   "cell_type": "code",
   "execution_count": 29,
   "outputs": [],
   "source": [],
   "metadata": {
    "collapsed": false,
    "pycharm": {
     "name": "#%%\n"
    }
   }
  }
 ],
 "metadata": {
  "kernelspec": {
   "display_name": "Python 3",
   "language": "python",
   "name": "python3"
  },
  "language_info": {
   "codemirror_mode": {
    "name": "ipython",
    "version": 2
   },
   "file_extension": ".py",
   "mimetype": "text/x-python",
   "name": "python",
   "nbconvert_exporter": "python",
   "pygments_lexer": "ipython2",
   "version": "2.7.6"
  }
 },
 "nbformat": 4,
 "nbformat_minor": 0
}