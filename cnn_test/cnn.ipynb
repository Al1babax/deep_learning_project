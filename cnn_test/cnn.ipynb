{
 "cells": [
  {
   "cell_type": "code",
   "execution_count": 128,
   "outputs": [],
   "source": [
    "import tensorflow as tf\n",
    "import numpy as np\n",
    "import matplotlib.pyplot as plt\n",
    "import pandas as pd\n",
    "import seaborn as sns\n",
    "from sklearn.model_selection import train_test_split\n",
    "from sklearn.preprocessing import MinMaxScaler\n",
    "from keras.models import Sequential\n",
    "from keras.layers import Dense, Flatten, Conv2D, MaxPool2D, Dropout, BatchNormalization, LeakyReLU\n",
    "from keras.losses import sparse_categorical_crossentropy\n",
    "from keras.optimizers import Adam\n",
    "import cv2\n",
    "from utils.video_decoding import VideoDecoder\n",
    "import time\n",
    "import ast\n",
    "import os"
   ],
   "metadata": {
    "collapsed": false,
    "pycharm": {
     "name": "#%%\n"
    }
   }
  },
  {
   "cell_type": "code",
   "execution_count": 129,
   "outputs": [],
   "source": [
    "class Dataset:\n",
    "\n",
    "    def __init__(self):\n",
    "        self.images_folder = \"images/\"\n",
    "        self.labels_folder = \"labels/\"\n",
    "        self.image_files = os.listdir(self.images_folder)\n",
    "        self.label_files = os.listdir(self.labels_folder)\n",
    "        self.data_set_size = len(self.image_files)\n",
    "\n",
    "    def print_data(self):\n",
    "        for i in range(len(self.image_files)):\n",
    "            print(self.image_files[i], self.label_files[i])\n",
    "\n",
    "    def generate_dateset(self):\n",
    "        for i in range(len(self.image_files)):\n",
    "            a_data = self.image_label(i)\n",
    "            if a_data is None:\n",
    "                continue\n",
    "            else:\n",
    "                yield a_data\n",
    "\n",
    "    def image_label(self, index):\n",
    "        image = self.load_image(self.image_files[index]) / 255\n",
    "        image = image.astype(np.float32)\n",
    "        with open(\"labels/\" + self.label_files[index], \"r\") as f:\n",
    "            data = f.readlines()\n",
    "        if len(data) == 0:\n",
    "            return None\n",
    "        label = pd.read_csv(\"labels/\" + self.label_files[index], header=None, delimiter=\" \")\n",
    "        label.iloc[:, 1:] = label.iloc[:, 1:] * 224\n",
    "        label = label.iloc[:, 1:]\n",
    "        label = label.to_numpy()\n",
    "        label = label.astype(np.float32)\n",
    "        return image, label\n",
    "\n",
    "    def load_image(self, image_file):\n",
    "        image = cv2.imread(f\"{self.images_folder}/{image_file}\")\n",
    "        image = cv2.cvtColor(image, cv2.COLOR_BGR2RGB)\n",
    "        image = cv2.resize(image, (224, 224))\n",
    "        image = image.reshape(1, 224, 224, 3)\n",
    "        return image"
   ],
   "metadata": {
    "collapsed": false,
    "pycharm": {
     "name": "#%%\n"
    }
   }
  },
  {
   "cell_type": "code",
   "execution_count": 130,
   "outputs": [],
   "source": [
    "def create_dataset():\n",
    "    dataset = Dataset()\n",
    "    for count, (image, label) in enumerate(dataset.generate_dateset()):\n",
    "        if count == 0:\n",
    "            x_data = np.array(image)\n",
    "            y_data = np.array(label)\n",
    "        else:\n",
    "            x_data = np.concatenate((x_data, image), axis=0)\n",
    "            y_data = np.concatenate((y_data, label), axis=0)\n",
    "\n",
    "    return x_data, y_data"
   ],
   "metadata": {
    "collapsed": false,
    "pycharm": {
     "name": "#%%\n"
    }
   }
  },
  {
   "cell_type": "code",
   "execution_count": 131,
   "outputs": [
    {
     "data": {
      "text/plain": "(46, 224, 224, 3)"
     },
     "execution_count": 131,
     "metadata": {},
     "output_type": "execute_result"
    }
   ],
   "source": [
    "x_data, y_data = create_dataset()\n",
    "x_data.shape"
   ],
   "metadata": {
    "collapsed": false,
    "pycharm": {
     "name": "#%%\n"
    }
   }
  },
  {
   "cell_type": "code",
   "execution_count": 144,
   "outputs": [],
   "source": [
    "def draw_image_with_box(data_set_x:np.ndarray, data_set_y:np.ndarray):\n",
    "    def one_image(x_data:np.ndarray, y_data:np.ndarray) -> np.ndarray:\n",
    "        image = x_data\n",
    "        x = int(y_data[0]) - int(y_data[2] / 2)\n",
    "        y = int(y_data[1]) + int(y_data[3] / 2)\n",
    "        box_width = int(x + y_data[2])\n",
    "        box_height = int(y - y_data[3])\n",
    "        cv2.rectangle(image, (x, y), (box_width, box_height), (0, 255, 0), 2)\n",
    "        print(image.shape)\n",
    "        image = cv2.cvtColor(image, cv2.COLOR_RGB2BGR)\n",
    "        image *= 255\n",
    "        return image\n",
    "\n",
    "    for i in range(len(x_test)):\n",
    "        cv2.imwrite(f\"test_images/{i}.jpg\", one_image(data_set_x[i], data_set_y[i]))"
   ],
   "metadata": {
    "collapsed": false,
    "pycharm": {
     "name": "#%%\n"
    }
   }
  },
  {
   "cell_type": "code",
   "execution_count": 133,
   "outputs": [],
   "source": [
    "from sklearn.model_selection import train_test_split\n",
    "\n",
    "x_train, x_test, y_train, y_test = train_test_split(x_data, y_data, test_size=0.2, random_state=42)"
   ],
   "metadata": {
    "collapsed": false,
    "pycharm": {
     "name": "#%%\n"
    }
   }
  },
  {
   "cell_type": "code",
   "execution_count": 134,
   "outputs": [
    {
     "data": {
      "text/plain": "(36, 224, 224, 3)"
     },
     "execution_count": 134,
     "metadata": {},
     "output_type": "execute_result"
    }
   ],
   "source": [
    "x_train.shape"
   ],
   "metadata": {
    "collapsed": false,
    "pycharm": {
     "name": "#%%\n"
    }
   }
  },
  {
   "cell_type": "code",
   "execution_count": 135,
   "outputs": [
    {
     "data": {
      "text/plain": "(36, 4)"
     },
     "execution_count": 135,
     "metadata": {},
     "output_type": "execute_result"
    }
   ],
   "source": [
    "y_train.shape"
   ],
   "metadata": {
    "collapsed": false,
    "pycharm": {
     "name": "#%%\n"
    }
   }
  },
  {
   "cell_type": "code",
   "execution_count": 136,
   "outputs": [
    {
     "name": "stdout",
     "output_type": "stream",
     "text": [
      "Model: \"sequential_5\"\n",
      "_________________________________________________________________\n",
      " Layer (type)                Output Shape              Param #   \n",
      "=================================================================\n",
      " conv2d_60 (Conv2D)          (None, 224, 224, 32)      864       \n",
      "                                                                 \n",
      " leaky_re_lu_60 (LeakyReLU)  (None, 224, 224, 32)      0         \n",
      "                                                                 \n",
      " batch_normalization_60 (Bat  (None, 224, 224, 32)     128       \n",
      " chNormalization)                                                \n",
      "                                                                 \n",
      " conv2d_61 (Conv2D)          (None, 224, 224, 32)      9216      \n",
      "                                                                 \n",
      " leaky_re_lu_61 (LeakyReLU)  (None, 224, 224, 32)      0         \n",
      "                                                                 \n",
      " batch_normalization_61 (Bat  (None, 224, 224, 32)     128       \n",
      " chNormalization)                                                \n",
      "                                                                 \n",
      " max_pooling2d_25 (MaxPoolin  (None, 112, 112, 32)     0         \n",
      " g2D)                                                            \n",
      "                                                                 \n",
      " conv2d_62 (Conv2D)          (None, 112, 112, 64)      18432     \n",
      "                                                                 \n",
      " leaky_re_lu_62 (LeakyReLU)  (None, 112, 112, 64)      0         \n",
      "                                                                 \n",
      " batch_normalization_62 (Bat  (None, 112, 112, 64)     256       \n",
      " chNormalization)                                                \n",
      "                                                                 \n",
      " conv2d_63 (Conv2D)          (None, 112, 112, 64)      36864     \n",
      "                                                                 \n",
      " leaky_re_lu_63 (LeakyReLU)  (None, 112, 112, 64)      0         \n",
      "                                                                 \n",
      " batch_normalization_63 (Bat  (None, 112, 112, 64)     256       \n",
      " chNormalization)                                                \n",
      "                                                                 \n",
      " max_pooling2d_26 (MaxPoolin  (None, 56, 56, 64)       0         \n",
      " g2D)                                                            \n",
      "                                                                 \n",
      " conv2d_64 (Conv2D)          (None, 56, 56, 96)        55296     \n",
      "                                                                 \n",
      " leaky_re_lu_64 (LeakyReLU)  (None, 56, 56, 96)        0         \n",
      "                                                                 \n",
      " batch_normalization_64 (Bat  (None, 56, 56, 96)       384       \n",
      " chNormalization)                                                \n",
      "                                                                 \n",
      " conv2d_65 (Conv2D)          (None, 56, 56, 96)        82944     \n",
      "                                                                 \n",
      " leaky_re_lu_65 (LeakyReLU)  (None, 56, 56, 96)        0         \n",
      "                                                                 \n",
      " batch_normalization_65 (Bat  (None, 56, 56, 96)       384       \n",
      " chNormalization)                                                \n",
      "                                                                 \n",
      " max_pooling2d_27 (MaxPoolin  (None, 28, 28, 96)       0         \n",
      " g2D)                                                            \n",
      "                                                                 \n",
      " conv2d_66 (Conv2D)          (None, 28, 28, 128)       110592    \n",
      "                                                                 \n",
      " leaky_re_lu_66 (LeakyReLU)  (None, 28, 28, 128)       0         \n",
      "                                                                 \n",
      " batch_normalization_66 (Bat  (None, 28, 28, 128)      512       \n",
      " chNormalization)                                                \n",
      "                                                                 \n",
      " conv2d_67 (Conv2D)          (None, 28, 28, 128)       147456    \n",
      "                                                                 \n",
      " leaky_re_lu_67 (LeakyReLU)  (None, 28, 28, 128)       0         \n",
      "                                                                 \n",
      " batch_normalization_67 (Bat  (None, 28, 28, 128)      512       \n",
      " chNormalization)                                                \n",
      "                                                                 \n",
      " max_pooling2d_28 (MaxPoolin  (None, 14, 14, 128)      0         \n",
      " g2D)                                                            \n",
      "                                                                 \n",
      " conv2d_68 (Conv2D)          (None, 14, 14, 256)       294912    \n",
      "                                                                 \n",
      " leaky_re_lu_68 (LeakyReLU)  (None, 14, 14, 256)       0         \n",
      "                                                                 \n",
      " batch_normalization_68 (Bat  (None, 14, 14, 256)      1024      \n",
      " chNormalization)                                                \n",
      "                                                                 \n",
      " conv2d_69 (Conv2D)          (None, 14, 14, 256)       589824    \n",
      "                                                                 \n",
      " leaky_re_lu_69 (LeakyReLU)  (None, 14, 14, 256)       0         \n",
      "                                                                 \n",
      " batch_normalization_69 (Bat  (None, 14, 14, 256)      1024      \n",
      " chNormalization)                                                \n",
      "                                                                 \n",
      " max_pooling2d_29 (MaxPoolin  (None, 7, 7, 256)        0         \n",
      " g2D)                                                            \n",
      "                                                                 \n",
      " conv2d_70 (Conv2D)          (None, 7, 7, 512)         1179648   \n",
      "                                                                 \n",
      " leaky_re_lu_70 (LeakyReLU)  (None, 7, 7, 512)         0         \n",
      "                                                                 \n",
      " batch_normalization_70 (Bat  (None, 7, 7, 512)        2048      \n",
      " chNormalization)                                                \n",
      "                                                                 \n",
      " conv2d_71 (Conv2D)          (None, 7, 7, 512)         2359296   \n",
      "                                                                 \n",
      " leaky_re_lu_71 (LeakyReLU)  (None, 7, 7, 512)         0         \n",
      "                                                                 \n",
      " batch_normalization_71 (Bat  (None, 7, 7, 512)        2048      \n",
      " chNormalization)                                                \n",
      "                                                                 \n",
      " flatten_5 (Flatten)         (None, 25088)             0         \n",
      "                                                                 \n",
      " dense_10 (Dense)            (None, 512)               12845568  \n",
      "                                                                 \n",
      " dropout_5 (Dropout)         (None, 512)               0         \n",
      "                                                                 \n",
      " dense_11 (Dense)            (None, 4)                 2052      \n",
      "                                                                 \n",
      "=================================================================\n",
      "Total params: 17,741,668\n",
      "Trainable params: 17,737,316\n",
      "Non-trainable params: 4,352\n",
      "_________________________________________________________________\n"
     ]
    }
   ],
   "source": [
    "model = Sequential()\n",
    "model.add(Conv2D(32, (3, 3), padding='same', use_bias=False, input_shape=(224, 224, 3)))\n",
    "model.add(LeakyReLU(alpha=0.1))\n",
    "model.add(BatchNormalization())\n",
    "model.add(Conv2D(32, (3, 3), padding='same', use_bias=False))\n",
    "model.add(LeakyReLU(alpha=0.1))\n",
    "model.add(BatchNormalization())\n",
    "model.add(MaxPool2D(pool_size=(2, 2)))\n",
    "\n",
    "model.add(Conv2D(64, (3, 3), padding='same', use_bias=False))\n",
    "model.add(LeakyReLU(alpha=0.1))\n",
    "model.add(BatchNormalization())\n",
    "model.add(Conv2D(64, (3, 3), padding='same', use_bias=False))\n",
    "model.add(LeakyReLU(alpha=0.1))\n",
    "model.add(BatchNormalization())\n",
    "model.add(MaxPool2D(pool_size=(2, 2)))\n",
    "\n",
    "model.add(Conv2D(96, (3, 3), padding='same', use_bias=False))\n",
    "model.add(LeakyReLU(alpha=0.1))\n",
    "model.add(BatchNormalization())\n",
    "model.add(Conv2D(96, (3, 3), padding='same', use_bias=False))\n",
    "model.add(LeakyReLU(alpha=0.1))\n",
    "model.add(BatchNormalization())\n",
    "model.add(MaxPool2D(pool_size=(2, 2)))\n",
    "\n",
    "model.add(Conv2D(128, (3, 3), padding='same', use_bias=False))\n",
    "model.add(LeakyReLU(alpha=0.1))\n",
    "model.add(BatchNormalization())\n",
    "model.add(Conv2D(128, (3, 3), padding='same', use_bias=False))\n",
    "model.add(LeakyReLU(alpha=0.1))\n",
    "model.add(BatchNormalization())\n",
    "model.add(MaxPool2D(pool_size=(2, 2)))\n",
    "\n",
    "model.add(Conv2D(256, (3, 3), padding='same', use_bias=False))\n",
    "model.add(LeakyReLU(alpha=0.1))\n",
    "model.add(BatchNormalization())\n",
    "model.add(Conv2D(256, (3, 3), padding='same', use_bias=False))\n",
    "model.add(LeakyReLU(alpha=0.1))\n",
    "model.add(BatchNormalization())\n",
    "model.add(MaxPool2D(pool_size=(2, 2)))\n",
    "\n",
    "model.add(Conv2D(512, (3, 3), padding='same', use_bias=False))\n",
    "model.add(LeakyReLU(alpha=0.1))\n",
    "model.add(BatchNormalization())\n",
    "model.add(Conv2D(512, (3, 3), padding='same', use_bias=False))\n",
    "model.add(LeakyReLU(alpha=0.1))\n",
    "model.add(BatchNormalization())\n",
    "\n",
    "model.add(Flatten())\n",
    "model.add(Dense(512, activation='linear'))\n",
    "model.add(Dropout(0.3))\n",
    "model.add(Dense(4))\n",
    "model.summary()"
   ],
   "metadata": {
    "collapsed": false,
    "pycharm": {
     "name": "#%%\n"
    }
   }
  },
  {
   "cell_type": "code",
   "execution_count": 137,
   "outputs": [],
   "source": [
    "model.compile(optimizer='adam',\n",
    "              loss='mean_squared_error',\n",
    "              metrics=['mse'])"
   ],
   "metadata": {
    "collapsed": false,
    "pycharm": {
     "name": "#%%\n"
    }
   }
  },
  {
   "cell_type": "code",
   "execution_count": 138,
   "outputs": [
    {
     "name": "stdout",
     "output_type": "stream",
     "text": [
      "Epoch 1/100\n",
      "36/36 - 2s - loss: 2487.5020 - mse: 2487.5020 - val_loss: 9302.4395 - val_mse: 9302.4395 - 2s/epoch - 53ms/step\n",
      "Epoch 2/100\n",
      "36/36 - 1s - loss: 2690.4744 - mse: 2690.4744 - val_loss: 1184.9080 - val_mse: 1184.9080 - 544ms/epoch - 15ms/step\n",
      "Epoch 3/100\n",
      "36/36 - 1s - loss: 2937.9502 - mse: 2937.9502 - val_loss: 3440309.5000 - val_mse: 3440309.5000 - 554ms/epoch - 15ms/step\n",
      "Epoch 4/100\n",
      "36/36 - 1s - loss: 2867.9575 - mse: 2867.9575 - val_loss: 4238825.5000 - val_mse: 4238825.5000 - 547ms/epoch - 15ms/step\n",
      "Epoch 5/100\n",
      "36/36 - 1s - loss: 2287.7043 - mse: 2287.7043 - val_loss: 48957.1211 - val_mse: 48957.1211 - 550ms/epoch - 15ms/step\n",
      "Epoch 6/100\n",
      "36/36 - 1s - loss: 1442.9124 - mse: 1442.9124 - val_loss: 15089.8545 - val_mse: 15089.8545 - 541ms/epoch - 15ms/step\n",
      "Epoch 7/100\n",
      "36/36 - 1s - loss: 2895.2034 - mse: 2895.2034 - val_loss: 486.4400 - val_mse: 486.4400 - 532ms/epoch - 15ms/step\n",
      "Epoch 8/100\n",
      "36/36 - 1s - loss: 1964.4338 - mse: 1964.4338 - val_loss: 382.0745 - val_mse: 382.0745 - 541ms/epoch - 15ms/step\n",
      "Epoch 9/100\n",
      "36/36 - 1s - loss: 1331.2701 - mse: 1331.2701 - val_loss: 557.4181 - val_mse: 557.4181 - 538ms/epoch - 15ms/step\n",
      "Epoch 10/100\n",
      "36/36 - 1s - loss: 763.1758 - mse: 763.1758 - val_loss: 818.2236 - val_mse: 818.2236 - 535ms/epoch - 15ms/step\n",
      "Epoch 11/100\n",
      "36/36 - 1s - loss: 623.9842 - mse: 623.9842 - val_loss: 743.7214 - val_mse: 743.7214 - 533ms/epoch - 15ms/step\n",
      "Epoch 12/100\n",
      "36/36 - 1s - loss: 435.1927 - mse: 435.1927 - val_loss: 1077.1775 - val_mse: 1077.1775 - 533ms/epoch - 15ms/step\n",
      "Epoch 13/100\n",
      "36/36 - 1s - loss: 529.8503 - mse: 529.8503 - val_loss: 901.2969 - val_mse: 901.2969 - 535ms/epoch - 15ms/step\n",
      "Epoch 14/100\n",
      "36/36 - 1s - loss: 481.6368 - mse: 481.6368 - val_loss: 786.4447 - val_mse: 786.4447 - 541ms/epoch - 15ms/step\n",
      "Epoch 15/100\n",
      "36/36 - 1s - loss: 559.9670 - mse: 559.9670 - val_loss: 613.9619 - val_mse: 613.9619 - 540ms/epoch - 15ms/step\n",
      "Epoch 16/100\n",
      "36/36 - 1s - loss: 402.3318 - mse: 402.3318 - val_loss: 1025.3750 - val_mse: 1025.3750 - 556ms/epoch - 15ms/step\n",
      "Epoch 17/100\n",
      "36/36 - 1s - loss: 617.1458 - mse: 617.1458 - val_loss: 506.3898 - val_mse: 506.3898 - 554ms/epoch - 15ms/step\n",
      "Epoch 18/100\n",
      "36/36 - 1s - loss: 368.5288 - mse: 368.5288 - val_loss: 733.3754 - val_mse: 733.3754 - 546ms/epoch - 15ms/step\n",
      "Epoch 19/100\n",
      "36/36 - 1s - loss: 411.8839 - mse: 411.8839 - val_loss: 527.0223 - val_mse: 527.0223 - 541ms/epoch - 15ms/step\n",
      "Epoch 20/100\n",
      "36/36 - 1s - loss: 437.1358 - mse: 437.1358 - val_loss: 853.3114 - val_mse: 853.3114 - 541ms/epoch - 15ms/step\n",
      "Epoch 21/100\n",
      "36/36 - 1s - loss: 277.3585 - mse: 277.3585 - val_loss: 545.2252 - val_mse: 545.2252 - 535ms/epoch - 15ms/step\n",
      "Epoch 22/100\n",
      "36/36 - 1s - loss: 386.3188 - mse: 386.3188 - val_loss: 369.2929 - val_mse: 369.2929 - 529ms/epoch - 15ms/step\n",
      "Epoch 23/100\n",
      "36/36 - 1s - loss: 339.8149 - mse: 339.8149 - val_loss: 420.4347 - val_mse: 420.4347 - 537ms/epoch - 15ms/step\n",
      "Epoch 24/100\n",
      "36/36 - 1s - loss: 374.8632 - mse: 374.8632 - val_loss: 449.7277 - val_mse: 449.7277 - 539ms/epoch - 15ms/step\n",
      "Epoch 25/100\n",
      "36/36 - 1s - loss: 273.8889 - mse: 273.8889 - val_loss: 496.6273 - val_mse: 496.6273 - 533ms/epoch - 15ms/step\n",
      "Epoch 26/100\n",
      "36/36 - 1s - loss: 428.3867 - mse: 428.3867 - val_loss: 519.8160 - val_mse: 519.8160 - 538ms/epoch - 15ms/step\n",
      "Epoch 27/100\n",
      "36/36 - 1s - loss: 298.9173 - mse: 298.9173 - val_loss: 434.0131 - val_mse: 434.0131 - 550ms/epoch - 15ms/step\n",
      "Epoch 28/100\n",
      "36/36 - 1s - loss: 290.6342 - mse: 290.6342 - val_loss: 425.1715 - val_mse: 425.1715 - 544ms/epoch - 15ms/step\n",
      "Epoch 29/100\n",
      "36/36 - 1s - loss: 273.4001 - mse: 273.4001 - val_loss: 370.1771 - val_mse: 370.1771 - 545ms/epoch - 15ms/step\n",
      "Epoch 30/100\n",
      "36/36 - 1s - loss: 247.9450 - mse: 247.9450 - val_loss: 447.8438 - val_mse: 447.8438 - 542ms/epoch - 15ms/step\n",
      "Epoch 31/100\n",
      "36/36 - 1s - loss: 278.6053 - mse: 278.6053 - val_loss: 416.7983 - val_mse: 416.7983 - 545ms/epoch - 15ms/step\n",
      "Epoch 32/100\n",
      "36/36 - 1s - loss: 299.6699 - mse: 299.6699 - val_loss: 516.4962 - val_mse: 516.4962 - 625ms/epoch - 17ms/step\n",
      "Epoch 33/100\n",
      "36/36 - 1s - loss: 272.2594 - mse: 272.2594 - val_loss: 375.5170 - val_mse: 375.5170 - 556ms/epoch - 15ms/step\n",
      "Epoch 34/100\n",
      "36/36 - 1s - loss: 358.7788 - mse: 358.7788 - val_loss: 654.4147 - val_mse: 654.4147 - 576ms/epoch - 16ms/step\n",
      "Epoch 35/100\n",
      "36/36 - 1s - loss: 321.2005 - mse: 321.2005 - val_loss: 452.4480 - val_mse: 452.4480 - 543ms/epoch - 15ms/step\n",
      "Epoch 36/100\n",
      "36/36 - 1s - loss: 339.1942 - mse: 339.1942 - val_loss: 650.5109 - val_mse: 650.5109 - 569ms/epoch - 16ms/step\n",
      "Epoch 37/100\n",
      "36/36 - 1s - loss: 271.2745 - mse: 271.2745 - val_loss: 406.9344 - val_mse: 406.9344 - 551ms/epoch - 15ms/step\n",
      "Epoch 38/100\n",
      "36/36 - 1s - loss: 276.7484 - mse: 276.7484 - val_loss: 590.1835 - val_mse: 590.1835 - 532ms/epoch - 15ms/step\n",
      "Epoch 39/100\n",
      "36/36 - 1s - loss: 267.5249 - mse: 267.5249 - val_loss: 307.4101 - val_mse: 307.4101 - 538ms/epoch - 15ms/step\n",
      "Epoch 40/100\n",
      "36/36 - 1s - loss: 206.1501 - mse: 206.1501 - val_loss: 576.4694 - val_mse: 576.4694 - 536ms/epoch - 15ms/step\n",
      "Epoch 41/100\n",
      "36/36 - 1s - loss: 213.4428 - mse: 213.4428 - val_loss: 518.8795 - val_mse: 518.8795 - 525ms/epoch - 15ms/step\n",
      "Epoch 42/100\n",
      "36/36 - 1s - loss: 241.5238 - mse: 241.5238 - val_loss: 429.1444 - val_mse: 429.1444 - 517ms/epoch - 14ms/step\n",
      "Epoch 43/100\n",
      "36/36 - 1s - loss: 206.1459 - mse: 206.1459 - val_loss: 965.1266 - val_mse: 965.1266 - 532ms/epoch - 15ms/step\n",
      "Epoch 44/100\n",
      "36/36 - 1s - loss: 193.4325 - mse: 193.4325 - val_loss: 381.8111 - val_mse: 381.8111 - 540ms/epoch - 15ms/step\n",
      "Epoch 45/100\n",
      "36/36 - 1s - loss: 211.5938 - mse: 211.5938 - val_loss: 387.9437 - val_mse: 387.9437 - 520ms/epoch - 14ms/step\n",
      "Epoch 46/100\n",
      "36/36 - 1s - loss: 216.0243 - mse: 216.0243 - val_loss: 1643.3922 - val_mse: 1643.3922 - 517ms/epoch - 14ms/step\n",
      "Epoch 47/100\n",
      "36/36 - 1s - loss: 224.1318 - mse: 224.1318 - val_loss: 291.9920 - val_mse: 291.9920 - 520ms/epoch - 14ms/step\n",
      "Epoch 48/100\n",
      "36/36 - 1s - loss: 247.6428 - mse: 247.6428 - val_loss: 188.2560 - val_mse: 188.2560 - 522ms/epoch - 14ms/step\n",
      "Epoch 49/100\n",
      "36/36 - 1s - loss: 217.3248 - mse: 217.3248 - val_loss: 465.8521 - val_mse: 465.8521 - 543ms/epoch - 15ms/step\n",
      "Epoch 50/100\n",
      "36/36 - 1s - loss: 235.2142 - mse: 235.2142 - val_loss: 353.4144 - val_mse: 353.4144 - 532ms/epoch - 15ms/step\n",
      "Epoch 51/100\n",
      "36/36 - 1s - loss: 232.1902 - mse: 232.1902 - val_loss: 404.8372 - val_mse: 404.8372 - 586ms/epoch - 16ms/step\n",
      "Epoch 52/100\n",
      "36/36 - 1s - loss: 195.3213 - mse: 195.3213 - val_loss: 1541.4478 - val_mse: 1541.4478 - 575ms/epoch - 16ms/step\n",
      "Epoch 53/100\n",
      "36/36 - 1s - loss: 187.8043 - mse: 187.8043 - val_loss: 526.1693 - val_mse: 526.1693 - 608ms/epoch - 17ms/step\n",
      "Epoch 54/100\n",
      "36/36 - 1s - loss: 129.3264 - mse: 129.3264 - val_loss: 3040.8691 - val_mse: 3040.8691 - 604ms/epoch - 17ms/step\n",
      "Epoch 55/100\n",
      "36/36 - 1s - loss: 201.9437 - mse: 201.9437 - val_loss: 1720.1838 - val_mse: 1720.1838 - 607ms/epoch - 17ms/step\n",
      "Epoch 56/100\n",
      "36/36 - 1s - loss: 144.0597 - mse: 144.0597 - val_loss: 1217.0789 - val_mse: 1217.0789 - 635ms/epoch - 18ms/step\n",
      "Epoch 57/100\n",
      "36/36 - 1s - loss: 136.5079 - mse: 136.5079 - val_loss: 813.8761 - val_mse: 813.8761 - 653ms/epoch - 18ms/step\n",
      "Epoch 58/100\n",
      "36/36 - 1s - loss: 105.0621 - mse: 105.0621 - val_loss: 655.2189 - val_mse: 655.2189 - 663ms/epoch - 18ms/step\n",
      "Epoch 59/100\n",
      "36/36 - 1s - loss: 81.7367 - mse: 81.7367 - val_loss: 1370.2914 - val_mse: 1370.2914 - 642ms/epoch - 18ms/step\n",
      "Epoch 60/100\n",
      "36/36 - 1s - loss: 97.6670 - mse: 97.6670 - val_loss: 212.9794 - val_mse: 212.9794 - 653ms/epoch - 18ms/step\n",
      "Epoch 61/100\n",
      "36/36 - 1s - loss: 80.1264 - mse: 80.1264 - val_loss: 118.8595 - val_mse: 118.8595 - 625ms/epoch - 17ms/step\n",
      "Epoch 62/100\n",
      "36/36 - 1s - loss: 96.6061 - mse: 96.6061 - val_loss: 1048.8281 - val_mse: 1048.8281 - 602ms/epoch - 17ms/step\n",
      "Epoch 63/100\n",
      "36/36 - 1s - loss: 88.8340 - mse: 88.8340 - val_loss: 411.2121 - val_mse: 411.2121 - 650ms/epoch - 18ms/step\n",
      "Epoch 64/100\n",
      "36/36 - 1s - loss: 76.1528 - mse: 76.1528 - val_loss: 298.6209 - val_mse: 298.6209 - 609ms/epoch - 17ms/step\n",
      "Epoch 65/100\n",
      "36/36 - 1s - loss: 75.7074 - mse: 75.7074 - val_loss: 1416.7249 - val_mse: 1416.7249 - 613ms/epoch - 17ms/step\n",
      "Epoch 66/100\n",
      "36/36 - 1s - loss: 67.8225 - mse: 67.8225 - val_loss: 222.7533 - val_mse: 222.7533 - 608ms/epoch - 17ms/step\n",
      "Epoch 67/100\n",
      "36/36 - 1s - loss: 61.8793 - mse: 61.8793 - val_loss: 436.8961 - val_mse: 436.8961 - 592ms/epoch - 16ms/step\n",
      "Epoch 68/100\n",
      "36/36 - 1s - loss: 60.6731 - mse: 60.6731 - val_loss: 737.3104 - val_mse: 737.3104 - 576ms/epoch - 16ms/step\n",
      "Epoch 69/100\n",
      "36/36 - 1s - loss: 64.8368 - mse: 64.8368 - val_loss: 559.5397 - val_mse: 559.5397 - 569ms/epoch - 16ms/step\n",
      "Epoch 70/100\n",
      "36/36 - 1s - loss: 62.7942 - mse: 62.7942 - val_loss: 849.8887 - val_mse: 849.8887 - 572ms/epoch - 16ms/step\n",
      "Epoch 71/100\n",
      "36/36 - 1s - loss: 64.0736 - mse: 64.0736 - val_loss: 250.0255 - val_mse: 250.0255 - 589ms/epoch - 16ms/step\n",
      "Epoch 72/100\n",
      "36/36 - 1s - loss: 56.7763 - mse: 56.7763 - val_loss: 321.0048 - val_mse: 321.0048 - 575ms/epoch - 16ms/step\n",
      "Epoch 73/100\n",
      "36/36 - 1s - loss: 64.3822 - mse: 64.3822 - val_loss: 765.2346 - val_mse: 765.2346 - 558ms/epoch - 16ms/step\n",
      "Epoch 74/100\n",
      "36/36 - 1s - loss: 53.0570 - mse: 53.0570 - val_loss: 333.0087 - val_mse: 333.0087 - 542ms/epoch - 15ms/step\n",
      "Epoch 75/100\n",
      "36/36 - 1s - loss: 64.7660 - mse: 64.7660 - val_loss: 165.3795 - val_mse: 165.3795 - 533ms/epoch - 15ms/step\n",
      "Epoch 76/100\n",
      "36/36 - 1s - loss: 43.6456 - mse: 43.6456 - val_loss: 448.8766 - val_mse: 448.8766 - 544ms/epoch - 15ms/step\n",
      "Epoch 77/100\n",
      "36/36 - 1s - loss: 54.4330 - mse: 54.4330 - val_loss: 332.2477 - val_mse: 332.2477 - 580ms/epoch - 16ms/step\n",
      "Epoch 78/100\n",
      "36/36 - 1s - loss: 53.4185 - mse: 53.4185 - val_loss: 96.6983 - val_mse: 96.6983 - 572ms/epoch - 16ms/step\n",
      "Epoch 79/100\n",
      "36/36 - 1s - loss: 59.6906 - mse: 59.6906 - val_loss: 116.5198 - val_mse: 116.5198 - 567ms/epoch - 16ms/step\n",
      "Epoch 80/100\n",
      "36/36 - 1s - loss: 54.1469 - mse: 54.1469 - val_loss: 227.4803 - val_mse: 227.4803 - 586ms/epoch - 16ms/step\n",
      "Epoch 81/100\n",
      "36/36 - 1s - loss: 41.8563 - mse: 41.8563 - val_loss: 253.5759 - val_mse: 253.5759 - 569ms/epoch - 16ms/step\n",
      "Epoch 82/100\n",
      "36/36 - 1s - loss: 48.6718 - mse: 48.6718 - val_loss: 177.6475 - val_mse: 177.6475 - 587ms/epoch - 16ms/step\n",
      "Epoch 83/100\n",
      "36/36 - 1s - loss: 81.2350 - mse: 81.2350 - val_loss: 269.3889 - val_mse: 269.3889 - 590ms/epoch - 16ms/step\n",
      "Epoch 84/100\n",
      "36/36 - 1s - loss: 48.8617 - mse: 48.8617 - val_loss: 351.6299 - val_mse: 351.6299 - 586ms/epoch - 16ms/step\n",
      "Epoch 85/100\n",
      "36/36 - 1s - loss: 50.4731 - mse: 50.4731 - val_loss: 400.7620 - val_mse: 400.7620 - 576ms/epoch - 16ms/step\n",
      "Epoch 86/100\n",
      "36/36 - 1s - loss: 39.6371 - mse: 39.6371 - val_loss: 640.2133 - val_mse: 640.2133 - 564ms/epoch - 16ms/step\n",
      "Epoch 87/100\n",
      "36/36 - 1s - loss: 43.1788 - mse: 43.1788 - val_loss: 597.8776 - val_mse: 597.8776 - 542ms/epoch - 15ms/step\n",
      "Epoch 88/100\n",
      "36/36 - 1s - loss: 36.4977 - mse: 36.4977 - val_loss: 156.2751 - val_mse: 156.2751 - 540ms/epoch - 15ms/step\n",
      "Epoch 89/100\n",
      "36/36 - 1s - loss: 53.1483 - mse: 53.1483 - val_loss: 268.6723 - val_mse: 268.6723 - 534ms/epoch - 15ms/step\n",
      "Epoch 90/100\n",
      "36/36 - 1s - loss: 72.8586 - mse: 72.8586 - val_loss: 111.8459 - val_mse: 111.8459 - 526ms/epoch - 15ms/step\n",
      "Epoch 91/100\n",
      "36/36 - 1s - loss: 51.1447 - mse: 51.1447 - val_loss: 73.6071 - val_mse: 73.6071 - 518ms/epoch - 14ms/step\n",
      "Epoch 92/100\n",
      "36/36 - 1s - loss: 52.8368 - mse: 52.8368 - val_loss: 186.0777 - val_mse: 186.0777 - 525ms/epoch - 15ms/step\n",
      "Epoch 93/100\n",
      "36/36 - 1s - loss: 67.1398 - mse: 67.1398 - val_loss: 622.2106 - val_mse: 622.2106 - 547ms/epoch - 15ms/step\n",
      "Epoch 94/100\n",
      "36/36 - 1s - loss: 55.0414 - mse: 55.0414 - val_loss: 93.2649 - val_mse: 93.2649 - 536ms/epoch - 15ms/step\n",
      "Epoch 95/100\n",
      "36/36 - 1s - loss: 43.6260 - mse: 43.6260 - val_loss: 702.4037 - val_mse: 702.4037 - 532ms/epoch - 15ms/step\n",
      "Epoch 96/100\n",
      "36/36 - 1s - loss: 57.7382 - mse: 57.7382 - val_loss: 114.6705 - val_mse: 114.6705 - 533ms/epoch - 15ms/step\n",
      "Epoch 97/100\n",
      "36/36 - 1s - loss: 50.8638 - mse: 50.8638 - val_loss: 358.2519 - val_mse: 358.2519 - 536ms/epoch - 15ms/step\n",
      "Epoch 98/100\n",
      "36/36 - 1s - loss: 27.7523 - mse: 27.7523 - val_loss: 573.7217 - val_mse: 573.7217 - 542ms/epoch - 15ms/step\n",
      "Epoch 99/100\n",
      "36/36 - 1s - loss: 47.0485 - mse: 47.0485 - val_loss: 173.0975 - val_mse: 173.0975 - 530ms/epoch - 15ms/step\n",
      "Epoch 100/100\n",
      "36/36 - 1s - loss: 42.8075 - mse: 42.8075 - val_loss: 359.1100 - val_mse: 359.1100 - 530ms/epoch - 15ms/step\n"
     ]
    }
   ],
   "source": [
    "hist = model.fit(x_train, y_train, batch_size=1,validation_data=(x_test, y_test) ,epochs=100, verbose=2, shuffle=True)"
   ],
   "metadata": {
    "collapsed": false,
    "pycharm": {
     "name": "#%%\n"
    }
   }
  },
  {
   "cell_type": "code",
   "execution_count": 139,
   "outputs": [
    {
     "name": "stdout",
     "output_type": "stream",
     "text": [
      "1/1 [==============================] - 0s 205ms/step - loss: 359.1100 - mse: 359.1100\n"
     ]
    },
    {
     "data": {
      "text/plain": "[359.1099548339844, 359.1099548339844]"
     },
     "execution_count": 139,
     "metadata": {},
     "output_type": "execute_result"
    }
   ],
   "source": [
    "model.evaluate(x_test, y_test)"
   ],
   "metadata": {
    "collapsed": false,
    "pycharm": {
     "name": "#%%\n"
    }
   }
  },
  {
   "cell_type": "code",
   "execution_count": 140,
   "outputs": [
    {
     "data": {
      "text/plain": "dict_keys(['loss', 'mse', 'val_loss', 'val_mse'])"
     },
     "execution_count": 140,
     "metadata": {},
     "output_type": "execute_result"
    }
   ],
   "source": [
    "hist.history.keys()"
   ],
   "metadata": {
    "collapsed": false,
    "pycharm": {
     "name": "#%%\n"
    }
   }
  },
  {
   "cell_type": "code",
   "execution_count": 141,
   "outputs": [
    {
     "data": {
      "text/plain": "<Figure size 1080x360 with 2 Axes>",
      "image/png": "[encoded data removed]"
     },
     "metadata": {},
     "output_type": "display_data"
    }
   ],
   "source": [
    "# plot the training loss and accuracy\n",
    "ax, fig = plt.subplots(1, 2, figsize=(15, 5))\n",
    "fig[0].plot(hist.history['loss'], label='train loss')\n",
    "fig[0].plot(hist.history['val_loss'], label='val loss')\n",
    "fig[0].set_title('Loss')\n",
    "fig[0].legend()\n",
    "fig[1].plot(hist.history['mse'], label='train mse')\n",
    "fig[1].plot(hist.history['val_mse'], label='val mse')\n",
    "fig[1].set_title('Mean Squared Error')\n",
    "fig[1].legend()\n",
    "plt.show()"
   ],
   "metadata": {
    "collapsed": false,
    "pycharm": {
     "name": "#%%\n"
    }
   }
  },
  {
   "cell_type": "code",
   "execution_count": 142,
   "outputs": [
    {
     "name": "stdout",
     "output_type": "stream",
     "text": [
      "1/1 [==============================] - 0s 187ms/step\n"
     ]
    }
   ],
   "source": [
    "y_pred = model.predict(x_test)"
   ],
   "metadata": {
    "collapsed": false,
    "pycharm": {
     "name": "#%%\n"
    }
   }
  },
  {
   "cell_type": "code",
   "execution_count": 145,
   "outputs": [
    {
     "name": "stdout",
     "output_type": "stream",
     "text": [
      "(224, 224, 3)\n",
      "(224, 224, 3)\n",
      "(224, 224, 3)\n",
      "(224, 224, 3)\n",
      "(224, 224, 3)\n",
      "(224, 224, 3)\n",
      "(224, 224, 3)\n",
      "(224, 224, 3)\n",
      "(224, 224, 3)\n",
      "(224, 224, 3)\n"
     ]
    }
   ],
   "source": [
    "draw_image_with_box(x_test, y_pred)"
   ],
   "metadata": {
    "collapsed": false,
    "pycharm": {
     "name": "#%%\n"
    }
   }
  },
  {
   "cell_type": "code",
   "execution_count": 143,
   "outputs": [],
   "source": [],
   "metadata": {
    "collapsed": false,
    "pycharm": {
     "name": "#%%\n"
    }
   }
  }
 ],
 "metadata": {
  "kernelspec": {
   "display_name": "Python 3",
   "language": "python",
   "name": "python3"
  },
  "language_info": {
   "codemirror_mode": {
    "name": "ipython",
    "version": 2
   },
   "file_extension": ".py",
   "mimetype": "text/x-python",
   "name": "python",
   "nbconvert_exporter": "python",
   "pygments_lexer": "ipython2",
   "version": "2.7.6"
  }
 },
 "nbformat": 4,
 "nbformat_minor": 0
}